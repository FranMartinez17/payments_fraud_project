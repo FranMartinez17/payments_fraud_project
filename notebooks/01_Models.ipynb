{
 "cells": [
  {
   "cell_type": "markdown",
   "id": "32618d40",
   "metadata": {},
   "source": [
    "# Models\n",
    "- Author: Francisco Martínez García\n",
    "\n",
    "In this part of the project we will proceed to train the training data and validate the predictions obtained in order to select the correct model for the test data. The results obtained will be commented in the next notebook"
   ]
  },
  {
   "cell_type": "markdown",
   "id": "a754ca90",
   "metadata": {},
   "source": [
    "## Libraries"
   ]
  },
  {
   "cell_type": "code",
   "execution_count": 1,
   "id": "bed3164c",
   "metadata": {},
   "outputs": [
    {
     "name": "stderr",
     "output_type": "stream",
     "text": [
      "C:\\Users\\franc\\anaconda3\\envs\\practice0\\lib\\site-packages\\xgboost\\compat.py:36: FutureWarning: pandas.Int64Index is deprecated and will be removed from pandas in a future version. Use pandas.Index with the appropriate dtype instead.\n",
      "  from pandas import MultiIndex, Int64Index\n"
     ]
    }
   ],
   "source": [
    "#Import the libraries needed\n",
    "import pandas as pd\n",
    "import numpy as np\n",
    "import seaborn as sns\n",
    "from matplotlib import pyplot as plt\n",
    "\n",
    "import category_encoders as ce\n",
    "\n",
    "from mlxtend.plotting import plot_confusion_matrix\n",
    "\n",
    "from sklearn.model_selection import train_test_split\n",
    "from sklearn.pipeline import Pipeline\n",
    "from sklearn.impute import SimpleImputer\n",
    "from sklearn.linear_model import Lasso, LogisticRegression\n",
    "from sklearn.linear_model import LogisticRegressionCV \n",
    "from sklearn.linear_model import LinearRegression\n",
    "from sklearn.preprocessing import StandardScaler, OneHotEncoder\n",
    "from sklearn.compose import ColumnTransformer\n",
    "\n",
    "from sklearn.ensemble import RandomForestClassifier\n",
    "from sklearn.ensemble import AdaBoostClassifier\n",
    "from sklearn.dummy import DummyClassifier\n",
    "from sklearn.svm import SVC\n",
    "from sklearn.metrics import classification_report, accuracy_score, confusion_matrix, roc_curve, auc, \\\n",
    "                            silhouette_score, recall_score, precision_score, make_scorer, \\\n",
    "                            roc_auc_score, f1_score, precision_recall_curve, fbeta_score,mean_squared_error\n",
    "\n",
    "\n",
    "from catboost import CatBoostClassifier \n",
    "import lightgbm as lgb\n",
    "import pickle\n",
    "import warnings\n",
    "warnings.filterwarnings('ignore')\n",
    "\n",
    "#Import de functions file\n",
    "import functions as fx"
   ]
  },
  {
   "cell_type": "markdown",
   "id": "3aded3d3",
   "metadata": {},
   "source": [
    "## Read data"
   ]
  },
  {
   "cell_type": "code",
   "execution_count": 3,
   "id": "02bbb606",
   "metadata": {},
   "outputs": [],
   "source": [
    "#Read the traing data\n",
    "pd_fraud = pd.read_parquet('../data/training_data.parquet')"
   ]
  },
  {
   "cell_type": "markdown",
   "id": "7be28246",
   "metadata": {},
   "source": [
    "## Process the data\n",
    "\n",
    "Firstly, the preprocessor for the Pipeline will be created. Furthermore, we will divide the training data in train and validation"
   ]
  },
  {
   "cell_type": "code",
   "execution_count": 4,
   "id": "b1a1d2f9",
   "metadata": {},
   "outputs": [],
   "source": [
    "#Defining the steps in the numerical pipeline \n",
    "numeric_transformer = Pipeline(steps=[\n",
    "    ('imputer', SimpleImputer(strategy='median')),\n",
    "    ('scaler', StandardScaler())])\n",
    "\n",
    "#Defining the steps in the categorical pipeline \n",
    "categorical_transformer = Pipeline(steps=[\n",
    "    ('imputer', SimpleImputer(strategy='constant', fill_value='missing')),\n",
    "    ('onehot', OneHotEncoder(handle_unknown='ignore'))])\n",
    "\n",
    "#Numerical features to pass down the numerical pipeline \n",
    "numeric_features = pd_fraud.select_dtypes(include=['int64', 'float64']).drop(['isFraud'], axis=1).columns\n",
    "#Categrical features to pass down the categorical pipeline \n",
    "categorical_features = pd_fraud.select_dtypes(include=['object']).columns"
   ]
  },
  {
   "cell_type": "code",
   "execution_count": 5,
   "id": "dc4cc91d",
   "metadata": {},
   "outputs": [],
   "source": [
    "#Create the preprocessor\n",
    "preprocessor = ColumnTransformer(\n",
    "    transformers=[\n",
    "        ('num', numeric_transformer, numeric_features),\n",
    "        ('cat', categorical_transformer, categorical_features)])"
   ]
  },
  {
   "cell_type": "code",
   "execution_count": 6,
   "id": "46a6d285",
   "metadata": {},
   "outputs": [],
   "source": [
    "#Save the preprocessor\n",
    "with open ('../models/preprocessor.pickle','wb') as f:\n",
    "    pickle.dump(preprocessor,f)"
   ]
  },
  {
   "cell_type": "code",
   "execution_count": 7,
   "id": "d37270e0",
   "metadata": {},
   "outputs": [],
   "source": [
    "with open('../models/preprocessor.pickle', 'rb') as f:\n",
    "    preprocessor = pickle.load(f)"
   ]
  },
  {
   "cell_type": "code",
   "execution_count": 8,
   "id": "d857655d",
   "metadata": {},
   "outputs": [],
   "source": [
    "#Separate the training data in training and validation\n",
    "X_train, X_validation, y_train, y_validation = train_test_split(pd_fraud, pd_fraud['isFraud'], \n",
    "                                                                test_size=0.15, \n",
    "                                                                random_state=1)"
   ]
  },
  {
   "cell_type": "code",
   "execution_count": 9,
   "id": "b0e2e5ad",
   "metadata": {},
   "outputs": [],
   "source": [
    "X_train = X_train.drop(['isFraud'], axis=1)\n",
    "X_validation = X_validation.drop(['isFraud'], axis=1)"
   ]
  },
  {
   "cell_type": "markdown",
   "id": "981c8d06",
   "metadata": {},
   "source": [
    "## Base model\n",
    "\n",
    "The first model will be a dummy classifier, which assumes every case is a fraud"
   ]
  },
  {
   "cell_type": "code",
   "execution_count": 10,
   "id": "9f40313a",
   "metadata": {},
   "outputs": [],
   "source": [
    "model_base = Pipeline(steps=[\n",
    "    ('preprocesador', preprocessor), \n",
    "    ('clasificador', DummyClassifier(strategy='most_frequent',random_state=1))])"
   ]
  },
  {
   "cell_type": "code",
   "execution_count": 11,
   "id": "dd536570",
   "metadata": {},
   "outputs": [
    {
     "data": {
      "text/html": [
       "<style>#sk-container-id-1 {color: black;background-color: white;}#sk-container-id-1 pre{padding: 0;}#sk-container-id-1 div.sk-toggleable {background-color: white;}#sk-container-id-1 label.sk-toggleable__label {cursor: pointer;display: block;width: 100%;margin-bottom: 0;padding: 0.3em;box-sizing: border-box;text-align: center;}#sk-container-id-1 label.sk-toggleable__label-arrow:before {content: \"▸\";float: left;margin-right: 0.25em;color: #696969;}#sk-container-id-1 label.sk-toggleable__label-arrow:hover:before {color: black;}#sk-container-id-1 div.sk-estimator:hover label.sk-toggleable__label-arrow:before {color: black;}#sk-container-id-1 div.sk-toggleable__content {max-height: 0;max-width: 0;overflow: hidden;text-align: left;background-color: #f0f8ff;}#sk-container-id-1 div.sk-toggleable__content pre {margin: 0.2em;color: black;border-radius: 0.25em;background-color: #f0f8ff;}#sk-container-id-1 input.sk-toggleable__control:checked~div.sk-toggleable__content {max-height: 200px;max-width: 100%;overflow: auto;}#sk-container-id-1 input.sk-toggleable__control:checked~label.sk-toggleable__label-arrow:before {content: \"▾\";}#sk-container-id-1 div.sk-estimator input.sk-toggleable__control:checked~label.sk-toggleable__label {background-color: #d4ebff;}#sk-container-id-1 div.sk-label input.sk-toggleable__control:checked~label.sk-toggleable__label {background-color: #d4ebff;}#sk-container-id-1 input.sk-hidden--visually {border: 0;clip: rect(1px 1px 1px 1px);clip: rect(1px, 1px, 1px, 1px);height: 1px;margin: -1px;overflow: hidden;padding: 0;position: absolute;width: 1px;}#sk-container-id-1 div.sk-estimator {font-family: monospace;background-color: #f0f8ff;border: 1px dotted black;border-radius: 0.25em;box-sizing: border-box;margin-bottom: 0.5em;}#sk-container-id-1 div.sk-estimator:hover {background-color: #d4ebff;}#sk-container-id-1 div.sk-parallel-item::after {content: \"\";width: 100%;border-bottom: 1px solid gray;flex-grow: 1;}#sk-container-id-1 div.sk-label:hover label.sk-toggleable__label {background-color: #d4ebff;}#sk-container-id-1 div.sk-serial::before {content: \"\";position: absolute;border-left: 1px solid gray;box-sizing: border-box;top: 0;bottom: 0;left: 50%;z-index: 0;}#sk-container-id-1 div.sk-serial {display: flex;flex-direction: column;align-items: center;background-color: white;padding-right: 0.2em;padding-left: 0.2em;position: relative;}#sk-container-id-1 div.sk-item {position: relative;z-index: 1;}#sk-container-id-1 div.sk-parallel {display: flex;align-items: stretch;justify-content: center;background-color: white;position: relative;}#sk-container-id-1 div.sk-item::before, #sk-container-id-1 div.sk-parallel-item::before {content: \"\";position: absolute;border-left: 1px solid gray;box-sizing: border-box;top: 0;bottom: 0;left: 50%;z-index: -1;}#sk-container-id-1 div.sk-parallel-item {display: flex;flex-direction: column;z-index: 1;position: relative;background-color: white;}#sk-container-id-1 div.sk-parallel-item:first-child::after {align-self: flex-end;width: 50%;}#sk-container-id-1 div.sk-parallel-item:last-child::after {align-self: flex-start;width: 50%;}#sk-container-id-1 div.sk-parallel-item:only-child::after {width: 0;}#sk-container-id-1 div.sk-dashed-wrapped {border: 1px dashed gray;margin: 0 0.4em 0.5em 0.4em;box-sizing: border-box;padding-bottom: 0.4em;background-color: white;}#sk-container-id-1 div.sk-label label {font-family: monospace;font-weight: bold;display: inline-block;line-height: 1.2em;}#sk-container-id-1 div.sk-label-container {text-align: center;}#sk-container-id-1 div.sk-container {/* jupyter's `normalize.less` sets `[hidden] { display: none; }` but bootstrap.min.css set `[hidden] { display: none !important; }` so we also need the `!important` here to be able to override the default hidden behavior on the sphinx rendered scikit-learn.org. See: https://github.com/scikit-learn/scikit-learn/issues/21755 */display: inline-block !important;position: relative;}#sk-container-id-1 div.sk-text-repr-fallback {display: none;}</style><div id=\"sk-container-id-1\" class=\"sk-top-container\"><div class=\"sk-text-repr-fallback\"><pre>Pipeline(steps=[(&#x27;preprocesador&#x27;,\n",
       "                 ColumnTransformer(transformers=[(&#x27;num&#x27;,\n",
       "                                                  Pipeline(steps=[(&#x27;imputer&#x27;,\n",
       "                                                                   SimpleImputer(strategy=&#x27;median&#x27;)),\n",
       "                                                                  (&#x27;scaler&#x27;,\n",
       "                                                                   StandardScaler())]),\n",
       "                                                  Index([&#x27;step&#x27;, &#x27;type_1&#x27;, &#x27;type_2&#x27;, &#x27;type_3&#x27;, &#x27;type_4&#x27;, &#x27;type_5&#x27;, &#x27;amount&#x27;,\n",
       "       &#x27;device_1&#x27;, &#x27;device_2&#x27;, &#x27;device_3&#x27;, &#x27;device_4&#x27;, &#x27;connection_time&#x27;,\n",
       "       &#x27;oldbalanceOrg&#x27;, &#x27;age&#x27;, &#x27;newbalanceOrig&#x27;, &#x27;zone_1&#x27;, &#x27;zone_2&#x27;,...\n",
       "       &#x27;zone_4&#x27;, &#x27;user_number&#x27;, &#x27;user_connections&#x27;, &#x27;security_alert_1&#x27;,\n",
       "       &#x27;security_alert_2&#x27;, &#x27;oldbalanceDest&#x27;, &#x27;newbalanceDest&#x27;],\n",
       "      dtype=&#x27;object&#x27;)),\n",
       "                                                 (&#x27;cat&#x27;,\n",
       "                                                  Pipeline(steps=[(&#x27;imputer&#x27;,\n",
       "                                                                   SimpleImputer(fill_value=&#x27;missing&#x27;,\n",
       "                                                                                 strategy=&#x27;constant&#x27;)),\n",
       "                                                                  (&#x27;onehot&#x27;,\n",
       "                                                                   OneHotEncoder(handle_unknown=&#x27;ignore&#x27;))]),\n",
       "                                                  Index([], dtype=&#x27;object&#x27;))])),\n",
       "                (&#x27;clasificador&#x27;,\n",
       "                 DummyClassifier(random_state=1, strategy=&#x27;most_frequent&#x27;))])</pre><b>In a Jupyter environment, please rerun this cell to show the HTML representation or trust the notebook. <br />On GitHub, the HTML representation is unable to render, please try loading this page with nbviewer.org.</b></div><div class=\"sk-container\" hidden><div class=\"sk-item sk-dashed-wrapped\"><div class=\"sk-label-container\"><div class=\"sk-label sk-toggleable\"><input class=\"sk-toggleable__control sk-hidden--visually\" id=\"sk-estimator-id-1\" type=\"checkbox\" ><label for=\"sk-estimator-id-1\" class=\"sk-toggleable__label sk-toggleable__label-arrow\">Pipeline</label><div class=\"sk-toggleable__content\"><pre>Pipeline(steps=[(&#x27;preprocesador&#x27;,\n",
       "                 ColumnTransformer(transformers=[(&#x27;num&#x27;,\n",
       "                                                  Pipeline(steps=[(&#x27;imputer&#x27;,\n",
       "                                                                   SimpleImputer(strategy=&#x27;median&#x27;)),\n",
       "                                                                  (&#x27;scaler&#x27;,\n",
       "                                                                   StandardScaler())]),\n",
       "                                                  Index([&#x27;step&#x27;, &#x27;type_1&#x27;, &#x27;type_2&#x27;, &#x27;type_3&#x27;, &#x27;type_4&#x27;, &#x27;type_5&#x27;, &#x27;amount&#x27;,\n",
       "       &#x27;device_1&#x27;, &#x27;device_2&#x27;, &#x27;device_3&#x27;, &#x27;device_4&#x27;, &#x27;connection_time&#x27;,\n",
       "       &#x27;oldbalanceOrg&#x27;, &#x27;age&#x27;, &#x27;newbalanceOrig&#x27;, &#x27;zone_1&#x27;, &#x27;zone_2&#x27;,...\n",
       "       &#x27;zone_4&#x27;, &#x27;user_number&#x27;, &#x27;user_connections&#x27;, &#x27;security_alert_1&#x27;,\n",
       "       &#x27;security_alert_2&#x27;, &#x27;oldbalanceDest&#x27;, &#x27;newbalanceDest&#x27;],\n",
       "      dtype=&#x27;object&#x27;)),\n",
       "                                                 (&#x27;cat&#x27;,\n",
       "                                                  Pipeline(steps=[(&#x27;imputer&#x27;,\n",
       "                                                                   SimpleImputer(fill_value=&#x27;missing&#x27;,\n",
       "                                                                                 strategy=&#x27;constant&#x27;)),\n",
       "                                                                  (&#x27;onehot&#x27;,\n",
       "                                                                   OneHotEncoder(handle_unknown=&#x27;ignore&#x27;))]),\n",
       "                                                  Index([], dtype=&#x27;object&#x27;))])),\n",
       "                (&#x27;clasificador&#x27;,\n",
       "                 DummyClassifier(random_state=1, strategy=&#x27;most_frequent&#x27;))])</pre></div></div></div><div class=\"sk-serial\"><div class=\"sk-item sk-dashed-wrapped\"><div class=\"sk-label-container\"><div class=\"sk-label sk-toggleable\"><input class=\"sk-toggleable__control sk-hidden--visually\" id=\"sk-estimator-id-2\" type=\"checkbox\" ><label for=\"sk-estimator-id-2\" class=\"sk-toggleable__label sk-toggleable__label-arrow\">preprocesador: ColumnTransformer</label><div class=\"sk-toggleable__content\"><pre>ColumnTransformer(transformers=[(&#x27;num&#x27;,\n",
       "                                 Pipeline(steps=[(&#x27;imputer&#x27;,\n",
       "                                                  SimpleImputer(strategy=&#x27;median&#x27;)),\n",
       "                                                 (&#x27;scaler&#x27;, StandardScaler())]),\n",
       "                                 Index([&#x27;step&#x27;, &#x27;type_1&#x27;, &#x27;type_2&#x27;, &#x27;type_3&#x27;, &#x27;type_4&#x27;, &#x27;type_5&#x27;, &#x27;amount&#x27;,\n",
       "       &#x27;device_1&#x27;, &#x27;device_2&#x27;, &#x27;device_3&#x27;, &#x27;device_4&#x27;, &#x27;connection_time&#x27;,\n",
       "       &#x27;oldbalanceOrg&#x27;, &#x27;age&#x27;, &#x27;newbalanceOrig&#x27;, &#x27;zone_1&#x27;, &#x27;zone_2&#x27;, &#x27;zone_3&#x27;,\n",
       "       &#x27;zone_4&#x27;, &#x27;user_number&#x27;, &#x27;user_connections&#x27;, &#x27;security_alert_1&#x27;,\n",
       "       &#x27;security_alert_2&#x27;, &#x27;oldbalanceDest&#x27;, &#x27;newbalanceDest&#x27;],\n",
       "      dtype=&#x27;object&#x27;)),\n",
       "                                (&#x27;cat&#x27;,\n",
       "                                 Pipeline(steps=[(&#x27;imputer&#x27;,\n",
       "                                                  SimpleImputer(fill_value=&#x27;missing&#x27;,\n",
       "                                                                strategy=&#x27;constant&#x27;)),\n",
       "                                                 (&#x27;onehot&#x27;,\n",
       "                                                  OneHotEncoder(handle_unknown=&#x27;ignore&#x27;))]),\n",
       "                                 Index([], dtype=&#x27;object&#x27;))])</pre></div></div></div><div class=\"sk-parallel\"><div class=\"sk-parallel-item\"><div class=\"sk-item\"><div class=\"sk-label-container\"><div class=\"sk-label sk-toggleable\"><input class=\"sk-toggleable__control sk-hidden--visually\" id=\"sk-estimator-id-3\" type=\"checkbox\" ><label for=\"sk-estimator-id-3\" class=\"sk-toggleable__label sk-toggleable__label-arrow\">num</label><div class=\"sk-toggleable__content\"><pre>Index([&#x27;step&#x27;, &#x27;type_1&#x27;, &#x27;type_2&#x27;, &#x27;type_3&#x27;, &#x27;type_4&#x27;, &#x27;type_5&#x27;, &#x27;amount&#x27;,\n",
       "       &#x27;device_1&#x27;, &#x27;device_2&#x27;, &#x27;device_3&#x27;, &#x27;device_4&#x27;, &#x27;connection_time&#x27;,\n",
       "       &#x27;oldbalanceOrg&#x27;, &#x27;age&#x27;, &#x27;newbalanceOrig&#x27;, &#x27;zone_1&#x27;, &#x27;zone_2&#x27;, &#x27;zone_3&#x27;,\n",
       "       &#x27;zone_4&#x27;, &#x27;user_number&#x27;, &#x27;user_connections&#x27;, &#x27;security_alert_1&#x27;,\n",
       "       &#x27;security_alert_2&#x27;, &#x27;oldbalanceDest&#x27;, &#x27;newbalanceDest&#x27;],\n",
       "      dtype=&#x27;object&#x27;)</pre></div></div></div><div class=\"sk-serial\"><div class=\"sk-item\"><div class=\"sk-serial\"><div class=\"sk-item\"><div class=\"sk-estimator sk-toggleable\"><input class=\"sk-toggleable__control sk-hidden--visually\" id=\"sk-estimator-id-4\" type=\"checkbox\" ><label for=\"sk-estimator-id-4\" class=\"sk-toggleable__label sk-toggleable__label-arrow\">SimpleImputer</label><div class=\"sk-toggleable__content\"><pre>SimpleImputer(strategy=&#x27;median&#x27;)</pre></div></div></div><div class=\"sk-item\"><div class=\"sk-estimator sk-toggleable\"><input class=\"sk-toggleable__control sk-hidden--visually\" id=\"sk-estimator-id-5\" type=\"checkbox\" ><label for=\"sk-estimator-id-5\" class=\"sk-toggleable__label sk-toggleable__label-arrow\">StandardScaler</label><div class=\"sk-toggleable__content\"><pre>StandardScaler()</pre></div></div></div></div></div></div></div></div><div class=\"sk-parallel-item\"><div class=\"sk-item\"><div class=\"sk-label-container\"><div class=\"sk-label sk-toggleable\"><input class=\"sk-toggleable__control sk-hidden--visually\" id=\"sk-estimator-id-6\" type=\"checkbox\" ><label for=\"sk-estimator-id-6\" class=\"sk-toggleable__label sk-toggleable__label-arrow\">cat</label><div class=\"sk-toggleable__content\"><pre>Index([], dtype=&#x27;object&#x27;)</pre></div></div></div><div class=\"sk-serial\"><div class=\"sk-item\"><div class=\"sk-serial\"><div class=\"sk-item\"><div class=\"sk-estimator sk-toggleable\"><input class=\"sk-toggleable__control sk-hidden--visually\" id=\"sk-estimator-id-7\" type=\"checkbox\" ><label for=\"sk-estimator-id-7\" class=\"sk-toggleable__label sk-toggleable__label-arrow\">SimpleImputer</label><div class=\"sk-toggleable__content\"><pre>SimpleImputer(fill_value=&#x27;missing&#x27;, strategy=&#x27;constant&#x27;)</pre></div></div></div><div class=\"sk-item\"><div class=\"sk-estimator sk-toggleable\"><input class=\"sk-toggleable__control sk-hidden--visually\" id=\"sk-estimator-id-8\" type=\"checkbox\" ><label for=\"sk-estimator-id-8\" class=\"sk-toggleable__label sk-toggleable__label-arrow\">OneHotEncoder</label><div class=\"sk-toggleable__content\"><pre>OneHotEncoder(handle_unknown=&#x27;ignore&#x27;)</pre></div></div></div></div></div></div></div></div></div></div><div class=\"sk-item\"><div class=\"sk-estimator sk-toggleable\"><input class=\"sk-toggleable__control sk-hidden--visually\" id=\"sk-estimator-id-9\" type=\"checkbox\" ><label for=\"sk-estimator-id-9\" class=\"sk-toggleable__label sk-toggleable__label-arrow\">DummyClassifier</label><div class=\"sk-toggleable__content\"><pre>DummyClassifier(random_state=1, strategy=&#x27;most_frequent&#x27;)</pre></div></div></div></div></div></div></div>"
      ],
      "text/plain": [
       "Pipeline(steps=[('preprocesador',\n",
       "                 ColumnTransformer(transformers=[('num',\n",
       "                                                  Pipeline(steps=[('imputer',\n",
       "                                                                   SimpleImputer(strategy='median')),\n",
       "                                                                  ('scaler',\n",
       "                                                                   StandardScaler())]),\n",
       "                                                  Index(['step', 'type_1', 'type_2', 'type_3', 'type_4', 'type_5', 'amount',\n",
       "       'device_1', 'device_2', 'device_3', 'device_4', 'connection_time',\n",
       "       'oldbalanceOrg', 'age', 'newbalanceOrig', 'zone_1', 'zone_2',...\n",
       "       'zone_4', 'user_number', 'user_connections', 'security_alert_1',\n",
       "       'security_alert_2', 'oldbalanceDest', 'newbalanceDest'],\n",
       "      dtype='object')),\n",
       "                                                 ('cat',\n",
       "                                                  Pipeline(steps=[('imputer',\n",
       "                                                                   SimpleImputer(fill_value='missing',\n",
       "                                                                                 strategy='constant')),\n",
       "                                                                  ('onehot',\n",
       "                                                                   OneHotEncoder(handle_unknown='ignore'))]),\n",
       "                                                  Index([], dtype='object'))])),\n",
       "                ('clasificador',\n",
       "                 DummyClassifier(random_state=1, strategy='most_frequent'))])"
      ]
     },
     "execution_count": 11,
     "metadata": {},
     "output_type": "execute_result"
    }
   ],
   "source": [
    "#Train the model\n",
    "model_base.fit(X_train, y_train)"
   ]
  },
  {
   "cell_type": "code",
   "execution_count": 12,
   "id": "d96eeb8d",
   "metadata": {},
   "outputs": [],
   "source": [
    "#Save the model\n",
    "with open('../models/base.pickle', 'wb') as f:\n",
    "    pickle.dump(model_base, f)"
   ]
  },
  {
   "cell_type": "code",
   "execution_count": 13,
   "id": "ef6c99d5",
   "metadata": {},
   "outputs": [],
   "source": [
    "#Load the model\n",
    "with open('../models/base.pickle', 'rb') as f:\n",
    "    model_base = pickle.load(f)"
   ]
  },
  {
   "cell_type": "markdown",
   "id": "b934a725",
   "metadata": {},
   "source": [
    "### Results"
   ]
  },
  {
   "cell_type": "code",
   "execution_count": 14,
   "id": "1fca44eb",
   "metadata": {},
   "outputs": [
    {
     "name": "stdout",
     "output_type": "stream",
     "text": [
      "ROC-AUC score of the model: 0.5\n",
      "Accuracy of the model: 0.9987522749127784\n",
      "\n",
      "Classification report: \n",
      "              precision    recall  f1-score   support\n",
      "\n",
      "           0       1.00      1.00      1.00    125672\n",
      "           1       0.00      0.00      0.00       157\n",
      "\n",
      "    accuracy                           1.00    125829\n",
      "   macro avg       0.50      0.50      0.50    125829\n",
      "weighted avg       1.00      1.00      1.00    125829\n",
      "\n",
      "\n",
      "Confusion matrix: \n",
      "[[125672      0]\n",
      " [   157      0]]\n",
      "\n",
      "F2 Score: \n",
      "0.4998751028214034\n",
      "\n"
     ]
    }
   ],
   "source": [
    "y_pred_base = model_base.predict(X_validation)\n",
    "y_pred_proba_base = model_base.predict_proba(X_validation)\n",
    "fx.evaluate_model(y_validation, y_pred_base, y_pred_proba_base)"
   ]
  },
  {
   "cell_type": "markdown",
   "id": "9138fe72",
   "metadata": {},
   "source": [
    "### Threshold setting prediction"
   ]
  },
  {
   "cell_type": "code",
   "execution_count": 15,
   "id": "ef336d7e",
   "metadata": {},
   "outputs": [
    {
     "name": "stdout",
     "output_type": "stream",
     "text": [
      "Best Threshold=1.000000, G-Mean=0.000\n",
      "ROC-AUC score of the model: 0.5\n",
      "Accuracy of the model: 0.9987522749127784\n",
      "\n",
      "Classification report: \n",
      "              precision    recall  f1-score   support\n",
      "\n",
      "           0       1.00      1.00      1.00    125672\n",
      "           1       0.00      0.00      0.00       157\n",
      "\n",
      "    accuracy                           1.00    125829\n",
      "   macro avg       0.50      0.50      0.50    125829\n",
      "weighted avg       1.00      1.00      1.00    125829\n",
      "\n",
      "\n",
      "Confusion matrix: \n",
      "[[125672      0]\n",
      " [   157      0]]\n",
      "\n",
      "F2 Score: \n",
      "0.4998751028214034\n",
      "\n"
     ]
    }
   ],
   "source": [
    "# keep probabilities for the positive outcome only\n",
    "yhat_base = y_pred_proba_base[:, 1]\n",
    "# calculate roc curves\n",
    "fpr, tpr, thresholds = roc_curve(y_validation, yhat_base)\n",
    "\n",
    "gmeans = np.sqrt(tpr * (1-fpr))\n",
    "# locate the index of the largest g-mean\n",
    "ix = np.argmax(gmeans)\n",
    "print('Best Threshold=%f, G-Mean=%.3f' % (thresholds[ix], gmeans[ix]))\n",
    "\n",
    "y_pred_new_threshold_base = (y_pred_proba_base[:,1]>thresholds[ix]).astype(int)\n",
    "fx.evaluate_model(y_validation,y_pred_new_threshold_base,y_pred_proba_base)"
   ]
  },
  {
   "cell_type": "markdown",
   "id": "bfbe8cde",
   "metadata": {},
   "source": [
    "## Lasso\n",
    "Lasso is a regression analysis method which does a selection of the variables to obtain a better result"
   ]
  },
  {
   "cell_type": "code",
   "execution_count": 16,
   "id": "d9868991",
   "metadata": {},
   "outputs": [],
   "source": [
    "model_lasso = Pipeline(steps=[\n",
    "    ('preprocesador', preprocessor), \n",
    "    ('clasificador', LogisticRegression(random_state=1))])"
   ]
  },
  {
   "cell_type": "code",
   "execution_count": 17,
   "id": "76f5bc4c",
   "metadata": {},
   "outputs": [
    {
     "data": {
      "text/html": [
       "<style>#sk-container-id-2 {color: black;background-color: white;}#sk-container-id-2 pre{padding: 0;}#sk-container-id-2 div.sk-toggleable {background-color: white;}#sk-container-id-2 label.sk-toggleable__label {cursor: pointer;display: block;width: 100%;margin-bottom: 0;padding: 0.3em;box-sizing: border-box;text-align: center;}#sk-container-id-2 label.sk-toggleable__label-arrow:before {content: \"▸\";float: left;margin-right: 0.25em;color: #696969;}#sk-container-id-2 label.sk-toggleable__label-arrow:hover:before {color: black;}#sk-container-id-2 div.sk-estimator:hover label.sk-toggleable__label-arrow:before {color: black;}#sk-container-id-2 div.sk-toggleable__content {max-height: 0;max-width: 0;overflow: hidden;text-align: left;background-color: #f0f8ff;}#sk-container-id-2 div.sk-toggleable__content pre {margin: 0.2em;color: black;border-radius: 0.25em;background-color: #f0f8ff;}#sk-container-id-2 input.sk-toggleable__control:checked~div.sk-toggleable__content {max-height: 200px;max-width: 100%;overflow: auto;}#sk-container-id-2 input.sk-toggleable__control:checked~label.sk-toggleable__label-arrow:before {content: \"▾\";}#sk-container-id-2 div.sk-estimator input.sk-toggleable__control:checked~label.sk-toggleable__label {background-color: #d4ebff;}#sk-container-id-2 div.sk-label input.sk-toggleable__control:checked~label.sk-toggleable__label {background-color: #d4ebff;}#sk-container-id-2 input.sk-hidden--visually {border: 0;clip: rect(1px 1px 1px 1px);clip: rect(1px, 1px, 1px, 1px);height: 1px;margin: -1px;overflow: hidden;padding: 0;position: absolute;width: 1px;}#sk-container-id-2 div.sk-estimator {font-family: monospace;background-color: #f0f8ff;border: 1px dotted black;border-radius: 0.25em;box-sizing: border-box;margin-bottom: 0.5em;}#sk-container-id-2 div.sk-estimator:hover {background-color: #d4ebff;}#sk-container-id-2 div.sk-parallel-item::after {content: \"\";width: 100%;border-bottom: 1px solid gray;flex-grow: 1;}#sk-container-id-2 div.sk-label:hover label.sk-toggleable__label {background-color: #d4ebff;}#sk-container-id-2 div.sk-serial::before {content: \"\";position: absolute;border-left: 1px solid gray;box-sizing: border-box;top: 0;bottom: 0;left: 50%;z-index: 0;}#sk-container-id-2 div.sk-serial {display: flex;flex-direction: column;align-items: center;background-color: white;padding-right: 0.2em;padding-left: 0.2em;position: relative;}#sk-container-id-2 div.sk-item {position: relative;z-index: 1;}#sk-container-id-2 div.sk-parallel {display: flex;align-items: stretch;justify-content: center;background-color: white;position: relative;}#sk-container-id-2 div.sk-item::before, #sk-container-id-2 div.sk-parallel-item::before {content: \"\";position: absolute;border-left: 1px solid gray;box-sizing: border-box;top: 0;bottom: 0;left: 50%;z-index: -1;}#sk-container-id-2 div.sk-parallel-item {display: flex;flex-direction: column;z-index: 1;position: relative;background-color: white;}#sk-container-id-2 div.sk-parallel-item:first-child::after {align-self: flex-end;width: 50%;}#sk-container-id-2 div.sk-parallel-item:last-child::after {align-self: flex-start;width: 50%;}#sk-container-id-2 div.sk-parallel-item:only-child::after {width: 0;}#sk-container-id-2 div.sk-dashed-wrapped {border: 1px dashed gray;margin: 0 0.4em 0.5em 0.4em;box-sizing: border-box;padding-bottom: 0.4em;background-color: white;}#sk-container-id-2 div.sk-label label {font-family: monospace;font-weight: bold;display: inline-block;line-height: 1.2em;}#sk-container-id-2 div.sk-label-container {text-align: center;}#sk-container-id-2 div.sk-container {/* jupyter's `normalize.less` sets `[hidden] { display: none; }` but bootstrap.min.css set `[hidden] { display: none !important; }` so we also need the `!important` here to be able to override the default hidden behavior on the sphinx rendered scikit-learn.org. See: https://github.com/scikit-learn/scikit-learn/issues/21755 */display: inline-block !important;position: relative;}#sk-container-id-2 div.sk-text-repr-fallback {display: none;}</style><div id=\"sk-container-id-2\" class=\"sk-top-container\"><div class=\"sk-text-repr-fallback\"><pre>Pipeline(steps=[(&#x27;preprocesador&#x27;,\n",
       "                 ColumnTransformer(transformers=[(&#x27;num&#x27;,\n",
       "                                                  Pipeline(steps=[(&#x27;imputer&#x27;,\n",
       "                                                                   SimpleImputer(strategy=&#x27;median&#x27;)),\n",
       "                                                                  (&#x27;scaler&#x27;,\n",
       "                                                                   StandardScaler())]),\n",
       "                                                  Index([&#x27;step&#x27;, &#x27;type_1&#x27;, &#x27;type_2&#x27;, &#x27;type_3&#x27;, &#x27;type_4&#x27;, &#x27;type_5&#x27;, &#x27;amount&#x27;,\n",
       "       &#x27;device_1&#x27;, &#x27;device_2&#x27;, &#x27;device_3&#x27;, &#x27;device_4&#x27;, &#x27;connection_time&#x27;,\n",
       "       &#x27;oldbalanceOrg&#x27;, &#x27;age&#x27;, &#x27;newbalanceOrig&#x27;, &#x27;zone_1&#x27;, &#x27;zone_2&#x27;,...\n",
       "       &#x27;zone_4&#x27;, &#x27;user_number&#x27;, &#x27;user_connections&#x27;, &#x27;security_alert_1&#x27;,\n",
       "       &#x27;security_alert_2&#x27;, &#x27;oldbalanceDest&#x27;, &#x27;newbalanceDest&#x27;],\n",
       "      dtype=&#x27;object&#x27;)),\n",
       "                                                 (&#x27;cat&#x27;,\n",
       "                                                  Pipeline(steps=[(&#x27;imputer&#x27;,\n",
       "                                                                   SimpleImputer(fill_value=&#x27;missing&#x27;,\n",
       "                                                                                 strategy=&#x27;constant&#x27;)),\n",
       "                                                                  (&#x27;onehot&#x27;,\n",
       "                                                                   OneHotEncoder(handle_unknown=&#x27;ignore&#x27;))]),\n",
       "                                                  Index([], dtype=&#x27;object&#x27;))])),\n",
       "                (&#x27;clasificador&#x27;, LogisticRegression(random_state=1))])</pre><b>In a Jupyter environment, please rerun this cell to show the HTML representation or trust the notebook. <br />On GitHub, the HTML representation is unable to render, please try loading this page with nbviewer.org.</b></div><div class=\"sk-container\" hidden><div class=\"sk-item sk-dashed-wrapped\"><div class=\"sk-label-container\"><div class=\"sk-label sk-toggleable\"><input class=\"sk-toggleable__control sk-hidden--visually\" id=\"sk-estimator-id-10\" type=\"checkbox\" ><label for=\"sk-estimator-id-10\" class=\"sk-toggleable__label sk-toggleable__label-arrow\">Pipeline</label><div class=\"sk-toggleable__content\"><pre>Pipeline(steps=[(&#x27;preprocesador&#x27;,\n",
       "                 ColumnTransformer(transformers=[(&#x27;num&#x27;,\n",
       "                                                  Pipeline(steps=[(&#x27;imputer&#x27;,\n",
       "                                                                   SimpleImputer(strategy=&#x27;median&#x27;)),\n",
       "                                                                  (&#x27;scaler&#x27;,\n",
       "                                                                   StandardScaler())]),\n",
       "                                                  Index([&#x27;step&#x27;, &#x27;type_1&#x27;, &#x27;type_2&#x27;, &#x27;type_3&#x27;, &#x27;type_4&#x27;, &#x27;type_5&#x27;, &#x27;amount&#x27;,\n",
       "       &#x27;device_1&#x27;, &#x27;device_2&#x27;, &#x27;device_3&#x27;, &#x27;device_4&#x27;, &#x27;connection_time&#x27;,\n",
       "       &#x27;oldbalanceOrg&#x27;, &#x27;age&#x27;, &#x27;newbalanceOrig&#x27;, &#x27;zone_1&#x27;, &#x27;zone_2&#x27;,...\n",
       "       &#x27;zone_4&#x27;, &#x27;user_number&#x27;, &#x27;user_connections&#x27;, &#x27;security_alert_1&#x27;,\n",
       "       &#x27;security_alert_2&#x27;, &#x27;oldbalanceDest&#x27;, &#x27;newbalanceDest&#x27;],\n",
       "      dtype=&#x27;object&#x27;)),\n",
       "                                                 (&#x27;cat&#x27;,\n",
       "                                                  Pipeline(steps=[(&#x27;imputer&#x27;,\n",
       "                                                                   SimpleImputer(fill_value=&#x27;missing&#x27;,\n",
       "                                                                                 strategy=&#x27;constant&#x27;)),\n",
       "                                                                  (&#x27;onehot&#x27;,\n",
       "                                                                   OneHotEncoder(handle_unknown=&#x27;ignore&#x27;))]),\n",
       "                                                  Index([], dtype=&#x27;object&#x27;))])),\n",
       "                (&#x27;clasificador&#x27;, LogisticRegression(random_state=1))])</pre></div></div></div><div class=\"sk-serial\"><div class=\"sk-item sk-dashed-wrapped\"><div class=\"sk-label-container\"><div class=\"sk-label sk-toggleable\"><input class=\"sk-toggleable__control sk-hidden--visually\" id=\"sk-estimator-id-11\" type=\"checkbox\" ><label for=\"sk-estimator-id-11\" class=\"sk-toggleable__label sk-toggleable__label-arrow\">preprocesador: ColumnTransformer</label><div class=\"sk-toggleable__content\"><pre>ColumnTransformer(transformers=[(&#x27;num&#x27;,\n",
       "                                 Pipeline(steps=[(&#x27;imputer&#x27;,\n",
       "                                                  SimpleImputer(strategy=&#x27;median&#x27;)),\n",
       "                                                 (&#x27;scaler&#x27;, StandardScaler())]),\n",
       "                                 Index([&#x27;step&#x27;, &#x27;type_1&#x27;, &#x27;type_2&#x27;, &#x27;type_3&#x27;, &#x27;type_4&#x27;, &#x27;type_5&#x27;, &#x27;amount&#x27;,\n",
       "       &#x27;device_1&#x27;, &#x27;device_2&#x27;, &#x27;device_3&#x27;, &#x27;device_4&#x27;, &#x27;connection_time&#x27;,\n",
       "       &#x27;oldbalanceOrg&#x27;, &#x27;age&#x27;, &#x27;newbalanceOrig&#x27;, &#x27;zone_1&#x27;, &#x27;zone_2&#x27;, &#x27;zone_3&#x27;,\n",
       "       &#x27;zone_4&#x27;, &#x27;user_number&#x27;, &#x27;user_connections&#x27;, &#x27;security_alert_1&#x27;,\n",
       "       &#x27;security_alert_2&#x27;, &#x27;oldbalanceDest&#x27;, &#x27;newbalanceDest&#x27;],\n",
       "      dtype=&#x27;object&#x27;)),\n",
       "                                (&#x27;cat&#x27;,\n",
       "                                 Pipeline(steps=[(&#x27;imputer&#x27;,\n",
       "                                                  SimpleImputer(fill_value=&#x27;missing&#x27;,\n",
       "                                                                strategy=&#x27;constant&#x27;)),\n",
       "                                                 (&#x27;onehot&#x27;,\n",
       "                                                  OneHotEncoder(handle_unknown=&#x27;ignore&#x27;))]),\n",
       "                                 Index([], dtype=&#x27;object&#x27;))])</pre></div></div></div><div class=\"sk-parallel\"><div class=\"sk-parallel-item\"><div class=\"sk-item\"><div class=\"sk-label-container\"><div class=\"sk-label sk-toggleable\"><input class=\"sk-toggleable__control sk-hidden--visually\" id=\"sk-estimator-id-12\" type=\"checkbox\" ><label for=\"sk-estimator-id-12\" class=\"sk-toggleable__label sk-toggleable__label-arrow\">num</label><div class=\"sk-toggleable__content\"><pre>Index([&#x27;step&#x27;, &#x27;type_1&#x27;, &#x27;type_2&#x27;, &#x27;type_3&#x27;, &#x27;type_4&#x27;, &#x27;type_5&#x27;, &#x27;amount&#x27;,\n",
       "       &#x27;device_1&#x27;, &#x27;device_2&#x27;, &#x27;device_3&#x27;, &#x27;device_4&#x27;, &#x27;connection_time&#x27;,\n",
       "       &#x27;oldbalanceOrg&#x27;, &#x27;age&#x27;, &#x27;newbalanceOrig&#x27;, &#x27;zone_1&#x27;, &#x27;zone_2&#x27;, &#x27;zone_3&#x27;,\n",
       "       &#x27;zone_4&#x27;, &#x27;user_number&#x27;, &#x27;user_connections&#x27;, &#x27;security_alert_1&#x27;,\n",
       "       &#x27;security_alert_2&#x27;, &#x27;oldbalanceDest&#x27;, &#x27;newbalanceDest&#x27;],\n",
       "      dtype=&#x27;object&#x27;)</pre></div></div></div><div class=\"sk-serial\"><div class=\"sk-item\"><div class=\"sk-serial\"><div class=\"sk-item\"><div class=\"sk-estimator sk-toggleable\"><input class=\"sk-toggleable__control sk-hidden--visually\" id=\"sk-estimator-id-13\" type=\"checkbox\" ><label for=\"sk-estimator-id-13\" class=\"sk-toggleable__label sk-toggleable__label-arrow\">SimpleImputer</label><div class=\"sk-toggleable__content\"><pre>SimpleImputer(strategy=&#x27;median&#x27;)</pre></div></div></div><div class=\"sk-item\"><div class=\"sk-estimator sk-toggleable\"><input class=\"sk-toggleable__control sk-hidden--visually\" id=\"sk-estimator-id-14\" type=\"checkbox\" ><label for=\"sk-estimator-id-14\" class=\"sk-toggleable__label sk-toggleable__label-arrow\">StandardScaler</label><div class=\"sk-toggleable__content\"><pre>StandardScaler()</pre></div></div></div></div></div></div></div></div><div class=\"sk-parallel-item\"><div class=\"sk-item\"><div class=\"sk-label-container\"><div class=\"sk-label sk-toggleable\"><input class=\"sk-toggleable__control sk-hidden--visually\" id=\"sk-estimator-id-15\" type=\"checkbox\" ><label for=\"sk-estimator-id-15\" class=\"sk-toggleable__label sk-toggleable__label-arrow\">cat</label><div class=\"sk-toggleable__content\"><pre>Index([], dtype=&#x27;object&#x27;)</pre></div></div></div><div class=\"sk-serial\"><div class=\"sk-item\"><div class=\"sk-serial\"><div class=\"sk-item\"><div class=\"sk-estimator sk-toggleable\"><input class=\"sk-toggleable__control sk-hidden--visually\" id=\"sk-estimator-id-16\" type=\"checkbox\" ><label for=\"sk-estimator-id-16\" class=\"sk-toggleable__label sk-toggleable__label-arrow\">SimpleImputer</label><div class=\"sk-toggleable__content\"><pre>SimpleImputer(fill_value=&#x27;missing&#x27;, strategy=&#x27;constant&#x27;)</pre></div></div></div><div class=\"sk-item\"><div class=\"sk-estimator sk-toggleable\"><input class=\"sk-toggleable__control sk-hidden--visually\" id=\"sk-estimator-id-17\" type=\"checkbox\" ><label for=\"sk-estimator-id-17\" class=\"sk-toggleable__label sk-toggleable__label-arrow\">OneHotEncoder</label><div class=\"sk-toggleable__content\"><pre>OneHotEncoder(handle_unknown=&#x27;ignore&#x27;)</pre></div></div></div></div></div></div></div></div></div></div><div class=\"sk-item\"><div class=\"sk-estimator sk-toggleable\"><input class=\"sk-toggleable__control sk-hidden--visually\" id=\"sk-estimator-id-18\" type=\"checkbox\" ><label for=\"sk-estimator-id-18\" class=\"sk-toggleable__label sk-toggleable__label-arrow\">LogisticRegression</label><div class=\"sk-toggleable__content\"><pre>LogisticRegression(random_state=1)</pre></div></div></div></div></div></div></div>"
      ],
      "text/plain": [
       "Pipeline(steps=[('preprocesador',\n",
       "                 ColumnTransformer(transformers=[('num',\n",
       "                                                  Pipeline(steps=[('imputer',\n",
       "                                                                   SimpleImputer(strategy='median')),\n",
       "                                                                  ('scaler',\n",
       "                                                                   StandardScaler())]),\n",
       "                                                  Index(['step', 'type_1', 'type_2', 'type_3', 'type_4', 'type_5', 'amount',\n",
       "       'device_1', 'device_2', 'device_3', 'device_4', 'connection_time',\n",
       "       'oldbalanceOrg', 'age', 'newbalanceOrig', 'zone_1', 'zone_2',...\n",
       "       'zone_4', 'user_number', 'user_connections', 'security_alert_1',\n",
       "       'security_alert_2', 'oldbalanceDest', 'newbalanceDest'],\n",
       "      dtype='object')),\n",
       "                                                 ('cat',\n",
       "                                                  Pipeline(steps=[('imputer',\n",
       "                                                                   SimpleImputer(fill_value='missing',\n",
       "                                                                                 strategy='constant')),\n",
       "                                                                  ('onehot',\n",
       "                                                                   OneHotEncoder(handle_unknown='ignore'))]),\n",
       "                                                  Index([], dtype='object'))])),\n",
       "                ('clasificador', LogisticRegression(random_state=1))])"
      ]
     },
     "execution_count": 17,
     "metadata": {},
     "output_type": "execute_result"
    }
   ],
   "source": [
    "#Train the model\n",
    "model_lasso.fit(X_train, y_train)"
   ]
  },
  {
   "cell_type": "code",
   "execution_count": 18,
   "id": "90618086",
   "metadata": {},
   "outputs": [],
   "source": [
    "#Save the model\n",
    "with open('../models/model_lasso.pickle', 'wb') as f:\n",
    "    pickle.dump(model_lasso, f)"
   ]
  },
  {
   "cell_type": "code",
   "execution_count": 19,
   "id": "8ab8726f",
   "metadata": {},
   "outputs": [],
   "source": [
    "#Load the model\n",
    "with open('../models/model_lasso.pickle', 'rb') as f:\n",
    "    model_lasso = pickle.load(f)"
   ]
  },
  {
   "cell_type": "markdown",
   "id": "482121fb",
   "metadata": {},
   "source": [
    "### Results"
   ]
  },
  {
   "cell_type": "code",
   "execution_count": 20,
   "id": "2687d533",
   "metadata": {},
   "outputs": [
    {
     "name": "stdout",
     "output_type": "stream",
     "text": [
      "ROC-AUC score of the model: 0.9577539428288299\n",
      "Accuracy of the model: 0.99912579770959\n",
      "\n",
      "Classification report: \n",
      "              precision    recall  f1-score   support\n",
      "\n",
      "           0       1.00      1.00      1.00    125672\n",
      "           1       0.96      0.31      0.47       157\n",
      "\n",
      "    accuracy                           1.00    125829\n",
      "   macro avg       0.98      0.66      0.74    125829\n",
      "weighted avg       1.00      1.00      1.00    125829\n",
      "\n",
      "\n",
      "Confusion matrix: \n",
      "[[125670      2]\n",
      " [   108     49]]\n",
      "\n",
      "F2 Score: \n",
      "0.6803200829274987\n",
      "\n"
     ]
    }
   ],
   "source": [
    "y_pred_lasso = model_lasso.predict(X_validation)\n",
    "y_pred_proba_lasso = model_lasso.predict_proba(X_validation)\n",
    "fx.evaluate_model(y_validation, y_pred_lasso, y_pred_proba_lasso)"
   ]
  },
  {
   "cell_type": "markdown",
   "id": "963e53a6",
   "metadata": {},
   "source": [
    "### Threshold setting prediction"
   ]
  },
  {
   "cell_type": "code",
   "execution_count": 21,
   "id": "ece1221b",
   "metadata": {},
   "outputs": [
    {
     "name": "stdout",
     "output_type": "stream",
     "text": [
      "Best Threshold=0.002079, G-Mean=0.889\n",
      "ROC-AUC score of the model: 0.9577539428288299\n",
      "Accuracy of the model: 0.9193747069435504\n",
      "\n",
      "Classification report: \n",
      "              precision    recall  f1-score   support\n",
      "\n",
      "           0       1.00      0.92      0.96    125672\n",
      "           1       0.01      0.85      0.03       157\n",
      "\n",
      "    accuracy                           0.92    125829\n",
      "   macro avg       0.51      0.89      0.49    125829\n",
      "weighted avg       1.00      0.92      0.96    125829\n",
      "\n",
      "\n",
      "Confusion matrix: \n",
      "[[115550  10122]\n",
      " [    23    134]]\n",
      "\n",
      "F2 Score: \n",
      "0.49801707175519894\n",
      "\n"
     ]
    }
   ],
   "source": [
    "# keep probabilities for the positive outcome only\n",
    "yhat_lasso = y_pred_proba_lasso[:, 1]\n",
    "# calculate roc curves\n",
    "fpr, tpr, thresholds = roc_curve(y_validation, yhat_lasso)\n",
    "\n",
    "gmeans = np.sqrt(tpr * (1-fpr))\n",
    "# locate the index of the largest g-mean\n",
    "ix = np.argmax(gmeans)\n",
    "print('Best Threshold=%f, G-Mean=%.3f' % (thresholds[ix], gmeans[ix]))\n",
    "\n",
    "y_pred_new_threshold_lasso = (y_pred_proba_lasso[:,1]>thresholds[ix]).astype(int)\n",
    "fx.evaluate_model(y_validation,y_pred_new_threshold_lasso,y_pred_proba_lasso)"
   ]
  },
  {
   "cell_type": "markdown",
   "id": "c93512cb",
   "metadata": {},
   "source": [
    "## Random Forest\n",
    "The random forest is a classification algorithm which consists in the calculation of many dession trees to correct the flaws these trees have by themselves"
   ]
  },
  {
   "cell_type": "code",
   "execution_count": 22,
   "id": "b3324898",
   "metadata": {},
   "outputs": [],
   "source": [
    "model_rf = Pipeline(steps=[\n",
    "    ('preprocesador', preprocessor), \n",
    "    \n",
    "    ('clasificador', RandomForestClassifier(n_jobs=-1, random_state=0))])"
   ]
  },
  {
   "cell_type": "code",
   "execution_count": 23,
   "id": "f82b251a",
   "metadata": {
    "scrolled": true
   },
   "outputs": [
    {
     "data": {
      "text/html": [
       "<style>#sk-container-id-3 {color: black;background-color: white;}#sk-container-id-3 pre{padding: 0;}#sk-container-id-3 div.sk-toggleable {background-color: white;}#sk-container-id-3 label.sk-toggleable__label {cursor: pointer;display: block;width: 100%;margin-bottom: 0;padding: 0.3em;box-sizing: border-box;text-align: center;}#sk-container-id-3 label.sk-toggleable__label-arrow:before {content: \"▸\";float: left;margin-right: 0.25em;color: #696969;}#sk-container-id-3 label.sk-toggleable__label-arrow:hover:before {color: black;}#sk-container-id-3 div.sk-estimator:hover label.sk-toggleable__label-arrow:before {color: black;}#sk-container-id-3 div.sk-toggleable__content {max-height: 0;max-width: 0;overflow: hidden;text-align: left;background-color: #f0f8ff;}#sk-container-id-3 div.sk-toggleable__content pre {margin: 0.2em;color: black;border-radius: 0.25em;background-color: #f0f8ff;}#sk-container-id-3 input.sk-toggleable__control:checked~div.sk-toggleable__content {max-height: 200px;max-width: 100%;overflow: auto;}#sk-container-id-3 input.sk-toggleable__control:checked~label.sk-toggleable__label-arrow:before {content: \"▾\";}#sk-container-id-3 div.sk-estimator input.sk-toggleable__control:checked~label.sk-toggleable__label {background-color: #d4ebff;}#sk-container-id-3 div.sk-label input.sk-toggleable__control:checked~label.sk-toggleable__label {background-color: #d4ebff;}#sk-container-id-3 input.sk-hidden--visually {border: 0;clip: rect(1px 1px 1px 1px);clip: rect(1px, 1px, 1px, 1px);height: 1px;margin: -1px;overflow: hidden;padding: 0;position: absolute;width: 1px;}#sk-container-id-3 div.sk-estimator {font-family: monospace;background-color: #f0f8ff;border: 1px dotted black;border-radius: 0.25em;box-sizing: border-box;margin-bottom: 0.5em;}#sk-container-id-3 div.sk-estimator:hover {background-color: #d4ebff;}#sk-container-id-3 div.sk-parallel-item::after {content: \"\";width: 100%;border-bottom: 1px solid gray;flex-grow: 1;}#sk-container-id-3 div.sk-label:hover label.sk-toggleable__label {background-color: #d4ebff;}#sk-container-id-3 div.sk-serial::before {content: \"\";position: absolute;border-left: 1px solid gray;box-sizing: border-box;top: 0;bottom: 0;left: 50%;z-index: 0;}#sk-container-id-3 div.sk-serial {display: flex;flex-direction: column;align-items: center;background-color: white;padding-right: 0.2em;padding-left: 0.2em;position: relative;}#sk-container-id-3 div.sk-item {position: relative;z-index: 1;}#sk-container-id-3 div.sk-parallel {display: flex;align-items: stretch;justify-content: center;background-color: white;position: relative;}#sk-container-id-3 div.sk-item::before, #sk-container-id-3 div.sk-parallel-item::before {content: \"\";position: absolute;border-left: 1px solid gray;box-sizing: border-box;top: 0;bottom: 0;left: 50%;z-index: -1;}#sk-container-id-3 div.sk-parallel-item {display: flex;flex-direction: column;z-index: 1;position: relative;background-color: white;}#sk-container-id-3 div.sk-parallel-item:first-child::after {align-self: flex-end;width: 50%;}#sk-container-id-3 div.sk-parallel-item:last-child::after {align-self: flex-start;width: 50%;}#sk-container-id-3 div.sk-parallel-item:only-child::after {width: 0;}#sk-container-id-3 div.sk-dashed-wrapped {border: 1px dashed gray;margin: 0 0.4em 0.5em 0.4em;box-sizing: border-box;padding-bottom: 0.4em;background-color: white;}#sk-container-id-3 div.sk-label label {font-family: monospace;font-weight: bold;display: inline-block;line-height: 1.2em;}#sk-container-id-3 div.sk-label-container {text-align: center;}#sk-container-id-3 div.sk-container {/* jupyter's `normalize.less` sets `[hidden] { display: none; }` but bootstrap.min.css set `[hidden] { display: none !important; }` so we also need the `!important` here to be able to override the default hidden behavior on the sphinx rendered scikit-learn.org. See: https://github.com/scikit-learn/scikit-learn/issues/21755 */display: inline-block !important;position: relative;}#sk-container-id-3 div.sk-text-repr-fallback {display: none;}</style><div id=\"sk-container-id-3\" class=\"sk-top-container\"><div class=\"sk-text-repr-fallback\"><pre>Pipeline(steps=[(&#x27;preprocesador&#x27;,\n",
       "                 ColumnTransformer(transformers=[(&#x27;num&#x27;,\n",
       "                                                  Pipeline(steps=[(&#x27;imputer&#x27;,\n",
       "                                                                   SimpleImputer(strategy=&#x27;median&#x27;)),\n",
       "                                                                  (&#x27;scaler&#x27;,\n",
       "                                                                   StandardScaler())]),\n",
       "                                                  Index([&#x27;step&#x27;, &#x27;type_1&#x27;, &#x27;type_2&#x27;, &#x27;type_3&#x27;, &#x27;type_4&#x27;, &#x27;type_5&#x27;, &#x27;amount&#x27;,\n",
       "       &#x27;device_1&#x27;, &#x27;device_2&#x27;, &#x27;device_3&#x27;, &#x27;device_4&#x27;, &#x27;connection_time&#x27;,\n",
       "       &#x27;oldbalanceOrg&#x27;, &#x27;age&#x27;, &#x27;newbalanceOrig&#x27;, &#x27;zone_1&#x27;, &#x27;zone_2&#x27;,...\n",
       "       &#x27;zone_4&#x27;, &#x27;user_number&#x27;, &#x27;user_connections&#x27;, &#x27;security_alert_1&#x27;,\n",
       "       &#x27;security_alert_2&#x27;, &#x27;oldbalanceDest&#x27;, &#x27;newbalanceDest&#x27;],\n",
       "      dtype=&#x27;object&#x27;)),\n",
       "                                                 (&#x27;cat&#x27;,\n",
       "                                                  Pipeline(steps=[(&#x27;imputer&#x27;,\n",
       "                                                                   SimpleImputer(fill_value=&#x27;missing&#x27;,\n",
       "                                                                                 strategy=&#x27;constant&#x27;)),\n",
       "                                                                  (&#x27;onehot&#x27;,\n",
       "                                                                   OneHotEncoder(handle_unknown=&#x27;ignore&#x27;))]),\n",
       "                                                  Index([], dtype=&#x27;object&#x27;))])),\n",
       "                (&#x27;clasificador&#x27;,\n",
       "                 RandomForestClassifier(n_jobs=-1, random_state=0))])</pre><b>In a Jupyter environment, please rerun this cell to show the HTML representation or trust the notebook. <br />On GitHub, the HTML representation is unable to render, please try loading this page with nbviewer.org.</b></div><div class=\"sk-container\" hidden><div class=\"sk-item sk-dashed-wrapped\"><div class=\"sk-label-container\"><div class=\"sk-label sk-toggleable\"><input class=\"sk-toggleable__control sk-hidden--visually\" id=\"sk-estimator-id-19\" type=\"checkbox\" ><label for=\"sk-estimator-id-19\" class=\"sk-toggleable__label sk-toggleable__label-arrow\">Pipeline</label><div class=\"sk-toggleable__content\"><pre>Pipeline(steps=[(&#x27;preprocesador&#x27;,\n",
       "                 ColumnTransformer(transformers=[(&#x27;num&#x27;,\n",
       "                                                  Pipeline(steps=[(&#x27;imputer&#x27;,\n",
       "                                                                   SimpleImputer(strategy=&#x27;median&#x27;)),\n",
       "                                                                  (&#x27;scaler&#x27;,\n",
       "                                                                   StandardScaler())]),\n",
       "                                                  Index([&#x27;step&#x27;, &#x27;type_1&#x27;, &#x27;type_2&#x27;, &#x27;type_3&#x27;, &#x27;type_4&#x27;, &#x27;type_5&#x27;, &#x27;amount&#x27;,\n",
       "       &#x27;device_1&#x27;, &#x27;device_2&#x27;, &#x27;device_3&#x27;, &#x27;device_4&#x27;, &#x27;connection_time&#x27;,\n",
       "       &#x27;oldbalanceOrg&#x27;, &#x27;age&#x27;, &#x27;newbalanceOrig&#x27;, &#x27;zone_1&#x27;, &#x27;zone_2&#x27;,...\n",
       "       &#x27;zone_4&#x27;, &#x27;user_number&#x27;, &#x27;user_connections&#x27;, &#x27;security_alert_1&#x27;,\n",
       "       &#x27;security_alert_2&#x27;, &#x27;oldbalanceDest&#x27;, &#x27;newbalanceDest&#x27;],\n",
       "      dtype=&#x27;object&#x27;)),\n",
       "                                                 (&#x27;cat&#x27;,\n",
       "                                                  Pipeline(steps=[(&#x27;imputer&#x27;,\n",
       "                                                                   SimpleImputer(fill_value=&#x27;missing&#x27;,\n",
       "                                                                                 strategy=&#x27;constant&#x27;)),\n",
       "                                                                  (&#x27;onehot&#x27;,\n",
       "                                                                   OneHotEncoder(handle_unknown=&#x27;ignore&#x27;))]),\n",
       "                                                  Index([], dtype=&#x27;object&#x27;))])),\n",
       "                (&#x27;clasificador&#x27;,\n",
       "                 RandomForestClassifier(n_jobs=-1, random_state=0))])</pre></div></div></div><div class=\"sk-serial\"><div class=\"sk-item sk-dashed-wrapped\"><div class=\"sk-label-container\"><div class=\"sk-label sk-toggleable\"><input class=\"sk-toggleable__control sk-hidden--visually\" id=\"sk-estimator-id-20\" type=\"checkbox\" ><label for=\"sk-estimator-id-20\" class=\"sk-toggleable__label sk-toggleable__label-arrow\">preprocesador: ColumnTransformer</label><div class=\"sk-toggleable__content\"><pre>ColumnTransformer(transformers=[(&#x27;num&#x27;,\n",
       "                                 Pipeline(steps=[(&#x27;imputer&#x27;,\n",
       "                                                  SimpleImputer(strategy=&#x27;median&#x27;)),\n",
       "                                                 (&#x27;scaler&#x27;, StandardScaler())]),\n",
       "                                 Index([&#x27;step&#x27;, &#x27;type_1&#x27;, &#x27;type_2&#x27;, &#x27;type_3&#x27;, &#x27;type_4&#x27;, &#x27;type_5&#x27;, &#x27;amount&#x27;,\n",
       "       &#x27;device_1&#x27;, &#x27;device_2&#x27;, &#x27;device_3&#x27;, &#x27;device_4&#x27;, &#x27;connection_time&#x27;,\n",
       "       &#x27;oldbalanceOrg&#x27;, &#x27;age&#x27;, &#x27;newbalanceOrig&#x27;, &#x27;zone_1&#x27;, &#x27;zone_2&#x27;, &#x27;zone_3&#x27;,\n",
       "       &#x27;zone_4&#x27;, &#x27;user_number&#x27;, &#x27;user_connections&#x27;, &#x27;security_alert_1&#x27;,\n",
       "       &#x27;security_alert_2&#x27;, &#x27;oldbalanceDest&#x27;, &#x27;newbalanceDest&#x27;],\n",
       "      dtype=&#x27;object&#x27;)),\n",
       "                                (&#x27;cat&#x27;,\n",
       "                                 Pipeline(steps=[(&#x27;imputer&#x27;,\n",
       "                                                  SimpleImputer(fill_value=&#x27;missing&#x27;,\n",
       "                                                                strategy=&#x27;constant&#x27;)),\n",
       "                                                 (&#x27;onehot&#x27;,\n",
       "                                                  OneHotEncoder(handle_unknown=&#x27;ignore&#x27;))]),\n",
       "                                 Index([], dtype=&#x27;object&#x27;))])</pre></div></div></div><div class=\"sk-parallel\"><div class=\"sk-parallel-item\"><div class=\"sk-item\"><div class=\"sk-label-container\"><div class=\"sk-label sk-toggleable\"><input class=\"sk-toggleable__control sk-hidden--visually\" id=\"sk-estimator-id-21\" type=\"checkbox\" ><label for=\"sk-estimator-id-21\" class=\"sk-toggleable__label sk-toggleable__label-arrow\">num</label><div class=\"sk-toggleable__content\"><pre>Index([&#x27;step&#x27;, &#x27;type_1&#x27;, &#x27;type_2&#x27;, &#x27;type_3&#x27;, &#x27;type_4&#x27;, &#x27;type_5&#x27;, &#x27;amount&#x27;,\n",
       "       &#x27;device_1&#x27;, &#x27;device_2&#x27;, &#x27;device_3&#x27;, &#x27;device_4&#x27;, &#x27;connection_time&#x27;,\n",
       "       &#x27;oldbalanceOrg&#x27;, &#x27;age&#x27;, &#x27;newbalanceOrig&#x27;, &#x27;zone_1&#x27;, &#x27;zone_2&#x27;, &#x27;zone_3&#x27;,\n",
       "       &#x27;zone_4&#x27;, &#x27;user_number&#x27;, &#x27;user_connections&#x27;, &#x27;security_alert_1&#x27;,\n",
       "       &#x27;security_alert_2&#x27;, &#x27;oldbalanceDest&#x27;, &#x27;newbalanceDest&#x27;],\n",
       "      dtype=&#x27;object&#x27;)</pre></div></div></div><div class=\"sk-serial\"><div class=\"sk-item\"><div class=\"sk-serial\"><div class=\"sk-item\"><div class=\"sk-estimator sk-toggleable\"><input class=\"sk-toggleable__control sk-hidden--visually\" id=\"sk-estimator-id-22\" type=\"checkbox\" ><label for=\"sk-estimator-id-22\" class=\"sk-toggleable__label sk-toggleable__label-arrow\">SimpleImputer</label><div class=\"sk-toggleable__content\"><pre>SimpleImputer(strategy=&#x27;median&#x27;)</pre></div></div></div><div class=\"sk-item\"><div class=\"sk-estimator sk-toggleable\"><input class=\"sk-toggleable__control sk-hidden--visually\" id=\"sk-estimator-id-23\" type=\"checkbox\" ><label for=\"sk-estimator-id-23\" class=\"sk-toggleable__label sk-toggleable__label-arrow\">StandardScaler</label><div class=\"sk-toggleable__content\"><pre>StandardScaler()</pre></div></div></div></div></div></div></div></div><div class=\"sk-parallel-item\"><div class=\"sk-item\"><div class=\"sk-label-container\"><div class=\"sk-label sk-toggleable\"><input class=\"sk-toggleable__control sk-hidden--visually\" id=\"sk-estimator-id-24\" type=\"checkbox\" ><label for=\"sk-estimator-id-24\" class=\"sk-toggleable__label sk-toggleable__label-arrow\">cat</label><div class=\"sk-toggleable__content\"><pre>Index([], dtype=&#x27;object&#x27;)</pre></div></div></div><div class=\"sk-serial\"><div class=\"sk-item\"><div class=\"sk-serial\"><div class=\"sk-item\"><div class=\"sk-estimator sk-toggleable\"><input class=\"sk-toggleable__control sk-hidden--visually\" id=\"sk-estimator-id-25\" type=\"checkbox\" ><label for=\"sk-estimator-id-25\" class=\"sk-toggleable__label sk-toggleable__label-arrow\">SimpleImputer</label><div class=\"sk-toggleable__content\"><pre>SimpleImputer(fill_value=&#x27;missing&#x27;, strategy=&#x27;constant&#x27;)</pre></div></div></div><div class=\"sk-item\"><div class=\"sk-estimator sk-toggleable\"><input class=\"sk-toggleable__control sk-hidden--visually\" id=\"sk-estimator-id-26\" type=\"checkbox\" ><label for=\"sk-estimator-id-26\" class=\"sk-toggleable__label sk-toggleable__label-arrow\">OneHotEncoder</label><div class=\"sk-toggleable__content\"><pre>OneHotEncoder(handle_unknown=&#x27;ignore&#x27;)</pre></div></div></div></div></div></div></div></div></div></div><div class=\"sk-item\"><div class=\"sk-estimator sk-toggleable\"><input class=\"sk-toggleable__control sk-hidden--visually\" id=\"sk-estimator-id-27\" type=\"checkbox\" ><label for=\"sk-estimator-id-27\" class=\"sk-toggleable__label sk-toggleable__label-arrow\">RandomForestClassifier</label><div class=\"sk-toggleable__content\"><pre>RandomForestClassifier(n_jobs=-1, random_state=0)</pre></div></div></div></div></div></div></div>"
      ],
      "text/plain": [
       "Pipeline(steps=[('preprocesador',\n",
       "                 ColumnTransformer(transformers=[('num',\n",
       "                                                  Pipeline(steps=[('imputer',\n",
       "                                                                   SimpleImputer(strategy='median')),\n",
       "                                                                  ('scaler',\n",
       "                                                                   StandardScaler())]),\n",
       "                                                  Index(['step', 'type_1', 'type_2', 'type_3', 'type_4', 'type_5', 'amount',\n",
       "       'device_1', 'device_2', 'device_3', 'device_4', 'connection_time',\n",
       "       'oldbalanceOrg', 'age', 'newbalanceOrig', 'zone_1', 'zone_2',...\n",
       "       'zone_4', 'user_number', 'user_connections', 'security_alert_1',\n",
       "       'security_alert_2', 'oldbalanceDest', 'newbalanceDest'],\n",
       "      dtype='object')),\n",
       "                                                 ('cat',\n",
       "                                                  Pipeline(steps=[('imputer',\n",
       "                                                                   SimpleImputer(fill_value='missing',\n",
       "                                                                                 strategy='constant')),\n",
       "                                                                  ('onehot',\n",
       "                                                                   OneHotEncoder(handle_unknown='ignore'))]),\n",
       "                                                  Index([], dtype='object'))])),\n",
       "                ('clasificador',\n",
       "                 RandomForestClassifier(n_jobs=-1, random_state=0))])"
      ]
     },
     "execution_count": 23,
     "metadata": {},
     "output_type": "execute_result"
    }
   ],
   "source": [
    "#Train the model\n",
    "model_rf.fit(X_train, y_train)"
   ]
  },
  {
   "cell_type": "code",
   "execution_count": 24,
   "id": "50dc1b4d",
   "metadata": {},
   "outputs": [],
   "source": [
    "#Save the model\n",
    "with open ('../models/random_forest.pickle','wb') as f:\n",
    "    pickle.dump(model_rf,f)"
   ]
  },
  {
   "cell_type": "code",
   "execution_count": 25,
   "id": "d696be59",
   "metadata": {},
   "outputs": [],
   "source": [
    "#Load the model\n",
    "with open('../models/random_forest.pickle', 'rb') as f:\n",
    "    model_rf = pickle.load(f)"
   ]
  },
  {
   "cell_type": "code",
   "execution_count": 26,
   "id": "c360ecdc",
   "metadata": {},
   "outputs": [],
   "source": [
    "y_pred_rf = model_rf.predict(X_validation)\n",
    "y_pred_proba_rf = model_rf.predict_proba(X_validation)"
   ]
  },
  {
   "cell_type": "markdown",
   "id": "56dcc344",
   "metadata": {},
   "source": [
    "### Results"
   ]
  },
  {
   "cell_type": "code",
   "execution_count": 27,
   "id": "89a02772",
   "metadata": {},
   "outputs": [
    {
     "name": "stdout",
     "output_type": "stream",
     "text": [
      "ROC-AUC score of the model: 0.9607479869748893\n",
      "Accuracy of the model: 0.9996900555515819\n",
      "\n",
      "Classification report: \n",
      "              precision    recall  f1-score   support\n",
      "\n",
      "           0       1.00      1.00      1.00    125672\n",
      "           1       0.99      0.76      0.86       157\n",
      "\n",
      "    accuracy                           1.00    125829\n",
      "   macro avg       1.00      0.88      0.93    125829\n",
      "weighted avg       1.00      1.00      1.00    125829\n",
      "\n",
      "\n",
      "Confusion matrix: \n",
      "[[125671      1]\n",
      " [    38    119]]\n",
      "\n",
      "F2 Score: \n",
      "0.8976938543627675\n",
      "\n"
     ]
    }
   ],
   "source": [
    "fx.evaluate_model(y_validation, y_pred_rf,y_pred_proba_rf)"
   ]
  },
  {
   "cell_type": "markdown",
   "id": "3df8b61a",
   "metadata": {},
   "source": [
    "### Threshold setting prediction"
   ]
  },
  {
   "cell_type": "code",
   "execution_count": 28,
   "id": "327f78db",
   "metadata": {},
   "outputs": [
    {
     "name": "stdout",
     "output_type": "stream",
     "text": [
      "Best Threshold=0.010000, G-Mean=0.952\n",
      "ROC-AUC score of the model: 0.9607479869748893\n",
      "Accuracy of the model: 0.9953905697414746\n",
      "\n",
      "Classification report: \n",
      "              precision    recall  f1-score   support\n",
      "\n",
      "           0       1.00      1.00      1.00    125672\n",
      "           1       0.20      0.90      0.33       157\n",
      "\n",
      "    accuracy                           1.00    125829\n",
      "   macro avg       0.60      0.95      0.66    125829\n",
      "weighted avg       1.00      1.00      1.00    125829\n",
      "\n",
      "\n",
      "Confusion matrix: \n",
      "[[125107    565]\n",
      " [    15    142]]\n",
      "\n",
      "F2 Score: \n",
      "0.7641057490914109\n",
      "\n"
     ]
    }
   ],
   "source": [
    "# keep probabilities for the positive outcome only\n",
    "yhat_rf = y_pred_proba_rf[:, 1]\n",
    "# calculate roc curves\n",
    "fpr, tpr, thresholds = roc_curve(y_validation, yhat_rf)\n",
    "\n",
    "gmeans = np.sqrt(tpr * (1-fpr))\n",
    "# locate the index of the largest g-mean\n",
    "ix = np.argmax(gmeans)\n",
    "print('Best Threshold=%f, G-Mean=%.3f' % (thresholds[ix], gmeans[ix]))\n",
    "\n",
    "y_pred_new_threshold_rf = (y_pred_proba_rf[:,1]>thresholds[ix]).astype(int)\n",
    "fx.evaluate_model(y_validation,y_pred_new_threshold_rf,y_pred_proba_rf)"
   ]
  },
  {
   "cell_type": "markdown",
   "id": "fc84443b",
   "metadata": {},
   "source": [
    "## General Linear Model (GLM)\n",
    "The linear regression calculates the predicted weight, which estimate the regression function"
   ]
  },
  {
   "cell_type": "code",
   "execution_count": 29,
   "id": "e1611d15",
   "metadata": {},
   "outputs": [],
   "source": [
    "model_glm = Pipeline(steps=[\n",
    "    ('preprocesador', preprocessor), \n",
    "    \n",
    "    ('clasificador', LinearRegression())])"
   ]
  },
  {
   "cell_type": "code",
   "execution_count": 30,
   "id": "8ed4b24f",
   "metadata": {},
   "outputs": [
    {
     "data": {
      "text/html": [
       "<style>#sk-container-id-4 {color: black;background-color: white;}#sk-container-id-4 pre{padding: 0;}#sk-container-id-4 div.sk-toggleable {background-color: white;}#sk-container-id-4 label.sk-toggleable__label {cursor: pointer;display: block;width: 100%;margin-bottom: 0;padding: 0.3em;box-sizing: border-box;text-align: center;}#sk-container-id-4 label.sk-toggleable__label-arrow:before {content: \"▸\";float: left;margin-right: 0.25em;color: #696969;}#sk-container-id-4 label.sk-toggleable__label-arrow:hover:before {color: black;}#sk-container-id-4 div.sk-estimator:hover label.sk-toggleable__label-arrow:before {color: black;}#sk-container-id-4 div.sk-toggleable__content {max-height: 0;max-width: 0;overflow: hidden;text-align: left;background-color: #f0f8ff;}#sk-container-id-4 div.sk-toggleable__content pre {margin: 0.2em;color: black;border-radius: 0.25em;background-color: #f0f8ff;}#sk-container-id-4 input.sk-toggleable__control:checked~div.sk-toggleable__content {max-height: 200px;max-width: 100%;overflow: auto;}#sk-container-id-4 input.sk-toggleable__control:checked~label.sk-toggleable__label-arrow:before {content: \"▾\";}#sk-container-id-4 div.sk-estimator input.sk-toggleable__control:checked~label.sk-toggleable__label {background-color: #d4ebff;}#sk-container-id-4 div.sk-label input.sk-toggleable__control:checked~label.sk-toggleable__label {background-color: #d4ebff;}#sk-container-id-4 input.sk-hidden--visually {border: 0;clip: rect(1px 1px 1px 1px);clip: rect(1px, 1px, 1px, 1px);height: 1px;margin: -1px;overflow: hidden;padding: 0;position: absolute;width: 1px;}#sk-container-id-4 div.sk-estimator {font-family: monospace;background-color: #f0f8ff;border: 1px dotted black;border-radius: 0.25em;box-sizing: border-box;margin-bottom: 0.5em;}#sk-container-id-4 div.sk-estimator:hover {background-color: #d4ebff;}#sk-container-id-4 div.sk-parallel-item::after {content: \"\";width: 100%;border-bottom: 1px solid gray;flex-grow: 1;}#sk-container-id-4 div.sk-label:hover label.sk-toggleable__label {background-color: #d4ebff;}#sk-container-id-4 div.sk-serial::before {content: \"\";position: absolute;border-left: 1px solid gray;box-sizing: border-box;top: 0;bottom: 0;left: 50%;z-index: 0;}#sk-container-id-4 div.sk-serial {display: flex;flex-direction: column;align-items: center;background-color: white;padding-right: 0.2em;padding-left: 0.2em;position: relative;}#sk-container-id-4 div.sk-item {position: relative;z-index: 1;}#sk-container-id-4 div.sk-parallel {display: flex;align-items: stretch;justify-content: center;background-color: white;position: relative;}#sk-container-id-4 div.sk-item::before, #sk-container-id-4 div.sk-parallel-item::before {content: \"\";position: absolute;border-left: 1px solid gray;box-sizing: border-box;top: 0;bottom: 0;left: 50%;z-index: -1;}#sk-container-id-4 div.sk-parallel-item {display: flex;flex-direction: column;z-index: 1;position: relative;background-color: white;}#sk-container-id-4 div.sk-parallel-item:first-child::after {align-self: flex-end;width: 50%;}#sk-container-id-4 div.sk-parallel-item:last-child::after {align-self: flex-start;width: 50%;}#sk-container-id-4 div.sk-parallel-item:only-child::after {width: 0;}#sk-container-id-4 div.sk-dashed-wrapped {border: 1px dashed gray;margin: 0 0.4em 0.5em 0.4em;box-sizing: border-box;padding-bottom: 0.4em;background-color: white;}#sk-container-id-4 div.sk-label label {font-family: monospace;font-weight: bold;display: inline-block;line-height: 1.2em;}#sk-container-id-4 div.sk-label-container {text-align: center;}#sk-container-id-4 div.sk-container {/* jupyter's `normalize.less` sets `[hidden] { display: none; }` but bootstrap.min.css set `[hidden] { display: none !important; }` so we also need the `!important` here to be able to override the default hidden behavior on the sphinx rendered scikit-learn.org. See: https://github.com/scikit-learn/scikit-learn/issues/21755 */display: inline-block !important;position: relative;}#sk-container-id-4 div.sk-text-repr-fallback {display: none;}</style><div id=\"sk-container-id-4\" class=\"sk-top-container\"><div class=\"sk-text-repr-fallback\"><pre>Pipeline(steps=[(&#x27;preprocesador&#x27;,\n",
       "                 ColumnTransformer(transformers=[(&#x27;num&#x27;,\n",
       "                                                  Pipeline(steps=[(&#x27;imputer&#x27;,\n",
       "                                                                   SimpleImputer(strategy=&#x27;median&#x27;)),\n",
       "                                                                  (&#x27;scaler&#x27;,\n",
       "                                                                   StandardScaler())]),\n",
       "                                                  Index([&#x27;step&#x27;, &#x27;type_1&#x27;, &#x27;type_2&#x27;, &#x27;type_3&#x27;, &#x27;type_4&#x27;, &#x27;type_5&#x27;, &#x27;amount&#x27;,\n",
       "       &#x27;device_1&#x27;, &#x27;device_2&#x27;, &#x27;device_3&#x27;, &#x27;device_4&#x27;, &#x27;connection_time&#x27;,\n",
       "       &#x27;oldbalanceOrg&#x27;, &#x27;age&#x27;, &#x27;newbalanceOrig&#x27;, &#x27;zone_1&#x27;, &#x27;zone_2&#x27;, &#x27;zone_3&#x27;,\n",
       "       &#x27;zone_4&#x27;, &#x27;user_number&#x27;, &#x27;user_connections&#x27;, &#x27;security_alert_1&#x27;,\n",
       "       &#x27;security_alert_2&#x27;, &#x27;oldbalanceDest&#x27;, &#x27;newbalanceDest&#x27;],\n",
       "      dtype=&#x27;object&#x27;)),\n",
       "                                                 (&#x27;cat&#x27;,\n",
       "                                                  Pipeline(steps=[(&#x27;imputer&#x27;,\n",
       "                                                                   SimpleImputer(fill_value=&#x27;missing&#x27;,\n",
       "                                                                                 strategy=&#x27;constant&#x27;)),\n",
       "                                                                  (&#x27;onehot&#x27;,\n",
       "                                                                   OneHotEncoder(handle_unknown=&#x27;ignore&#x27;))]),\n",
       "                                                  Index([], dtype=&#x27;object&#x27;))])),\n",
       "                (&#x27;clasificador&#x27;, LinearRegression())])</pre><b>In a Jupyter environment, please rerun this cell to show the HTML representation or trust the notebook. <br />On GitHub, the HTML representation is unable to render, please try loading this page with nbviewer.org.</b></div><div class=\"sk-container\" hidden><div class=\"sk-item sk-dashed-wrapped\"><div class=\"sk-label-container\"><div class=\"sk-label sk-toggleable\"><input class=\"sk-toggleable__control sk-hidden--visually\" id=\"sk-estimator-id-28\" type=\"checkbox\" ><label for=\"sk-estimator-id-28\" class=\"sk-toggleable__label sk-toggleable__label-arrow\">Pipeline</label><div class=\"sk-toggleable__content\"><pre>Pipeline(steps=[(&#x27;preprocesador&#x27;,\n",
       "                 ColumnTransformer(transformers=[(&#x27;num&#x27;,\n",
       "                                                  Pipeline(steps=[(&#x27;imputer&#x27;,\n",
       "                                                                   SimpleImputer(strategy=&#x27;median&#x27;)),\n",
       "                                                                  (&#x27;scaler&#x27;,\n",
       "                                                                   StandardScaler())]),\n",
       "                                                  Index([&#x27;step&#x27;, &#x27;type_1&#x27;, &#x27;type_2&#x27;, &#x27;type_3&#x27;, &#x27;type_4&#x27;, &#x27;type_5&#x27;, &#x27;amount&#x27;,\n",
       "       &#x27;device_1&#x27;, &#x27;device_2&#x27;, &#x27;device_3&#x27;, &#x27;device_4&#x27;, &#x27;connection_time&#x27;,\n",
       "       &#x27;oldbalanceOrg&#x27;, &#x27;age&#x27;, &#x27;newbalanceOrig&#x27;, &#x27;zone_1&#x27;, &#x27;zone_2&#x27;, &#x27;zone_3&#x27;,\n",
       "       &#x27;zone_4&#x27;, &#x27;user_number&#x27;, &#x27;user_connections&#x27;, &#x27;security_alert_1&#x27;,\n",
       "       &#x27;security_alert_2&#x27;, &#x27;oldbalanceDest&#x27;, &#x27;newbalanceDest&#x27;],\n",
       "      dtype=&#x27;object&#x27;)),\n",
       "                                                 (&#x27;cat&#x27;,\n",
       "                                                  Pipeline(steps=[(&#x27;imputer&#x27;,\n",
       "                                                                   SimpleImputer(fill_value=&#x27;missing&#x27;,\n",
       "                                                                                 strategy=&#x27;constant&#x27;)),\n",
       "                                                                  (&#x27;onehot&#x27;,\n",
       "                                                                   OneHotEncoder(handle_unknown=&#x27;ignore&#x27;))]),\n",
       "                                                  Index([], dtype=&#x27;object&#x27;))])),\n",
       "                (&#x27;clasificador&#x27;, LinearRegression())])</pre></div></div></div><div class=\"sk-serial\"><div class=\"sk-item sk-dashed-wrapped\"><div class=\"sk-label-container\"><div class=\"sk-label sk-toggleable\"><input class=\"sk-toggleable__control sk-hidden--visually\" id=\"sk-estimator-id-29\" type=\"checkbox\" ><label for=\"sk-estimator-id-29\" class=\"sk-toggleable__label sk-toggleable__label-arrow\">preprocesador: ColumnTransformer</label><div class=\"sk-toggleable__content\"><pre>ColumnTransformer(transformers=[(&#x27;num&#x27;,\n",
       "                                 Pipeline(steps=[(&#x27;imputer&#x27;,\n",
       "                                                  SimpleImputer(strategy=&#x27;median&#x27;)),\n",
       "                                                 (&#x27;scaler&#x27;, StandardScaler())]),\n",
       "                                 Index([&#x27;step&#x27;, &#x27;type_1&#x27;, &#x27;type_2&#x27;, &#x27;type_3&#x27;, &#x27;type_4&#x27;, &#x27;type_5&#x27;, &#x27;amount&#x27;,\n",
       "       &#x27;device_1&#x27;, &#x27;device_2&#x27;, &#x27;device_3&#x27;, &#x27;device_4&#x27;, &#x27;connection_time&#x27;,\n",
       "       &#x27;oldbalanceOrg&#x27;, &#x27;age&#x27;, &#x27;newbalanceOrig&#x27;, &#x27;zone_1&#x27;, &#x27;zone_2&#x27;, &#x27;zone_3&#x27;,\n",
       "       &#x27;zone_4&#x27;, &#x27;user_number&#x27;, &#x27;user_connections&#x27;, &#x27;security_alert_1&#x27;,\n",
       "       &#x27;security_alert_2&#x27;, &#x27;oldbalanceDest&#x27;, &#x27;newbalanceDest&#x27;],\n",
       "      dtype=&#x27;object&#x27;)),\n",
       "                                (&#x27;cat&#x27;,\n",
       "                                 Pipeline(steps=[(&#x27;imputer&#x27;,\n",
       "                                                  SimpleImputer(fill_value=&#x27;missing&#x27;,\n",
       "                                                                strategy=&#x27;constant&#x27;)),\n",
       "                                                 (&#x27;onehot&#x27;,\n",
       "                                                  OneHotEncoder(handle_unknown=&#x27;ignore&#x27;))]),\n",
       "                                 Index([], dtype=&#x27;object&#x27;))])</pre></div></div></div><div class=\"sk-parallel\"><div class=\"sk-parallel-item\"><div class=\"sk-item\"><div class=\"sk-label-container\"><div class=\"sk-label sk-toggleable\"><input class=\"sk-toggleable__control sk-hidden--visually\" id=\"sk-estimator-id-30\" type=\"checkbox\" ><label for=\"sk-estimator-id-30\" class=\"sk-toggleable__label sk-toggleable__label-arrow\">num</label><div class=\"sk-toggleable__content\"><pre>Index([&#x27;step&#x27;, &#x27;type_1&#x27;, &#x27;type_2&#x27;, &#x27;type_3&#x27;, &#x27;type_4&#x27;, &#x27;type_5&#x27;, &#x27;amount&#x27;,\n",
       "       &#x27;device_1&#x27;, &#x27;device_2&#x27;, &#x27;device_3&#x27;, &#x27;device_4&#x27;, &#x27;connection_time&#x27;,\n",
       "       &#x27;oldbalanceOrg&#x27;, &#x27;age&#x27;, &#x27;newbalanceOrig&#x27;, &#x27;zone_1&#x27;, &#x27;zone_2&#x27;, &#x27;zone_3&#x27;,\n",
       "       &#x27;zone_4&#x27;, &#x27;user_number&#x27;, &#x27;user_connections&#x27;, &#x27;security_alert_1&#x27;,\n",
       "       &#x27;security_alert_2&#x27;, &#x27;oldbalanceDest&#x27;, &#x27;newbalanceDest&#x27;],\n",
       "      dtype=&#x27;object&#x27;)</pre></div></div></div><div class=\"sk-serial\"><div class=\"sk-item\"><div class=\"sk-serial\"><div class=\"sk-item\"><div class=\"sk-estimator sk-toggleable\"><input class=\"sk-toggleable__control sk-hidden--visually\" id=\"sk-estimator-id-31\" type=\"checkbox\" ><label for=\"sk-estimator-id-31\" class=\"sk-toggleable__label sk-toggleable__label-arrow\">SimpleImputer</label><div class=\"sk-toggleable__content\"><pre>SimpleImputer(strategy=&#x27;median&#x27;)</pre></div></div></div><div class=\"sk-item\"><div class=\"sk-estimator sk-toggleable\"><input class=\"sk-toggleable__control sk-hidden--visually\" id=\"sk-estimator-id-32\" type=\"checkbox\" ><label for=\"sk-estimator-id-32\" class=\"sk-toggleable__label sk-toggleable__label-arrow\">StandardScaler</label><div class=\"sk-toggleable__content\"><pre>StandardScaler()</pre></div></div></div></div></div></div></div></div><div class=\"sk-parallel-item\"><div class=\"sk-item\"><div class=\"sk-label-container\"><div class=\"sk-label sk-toggleable\"><input class=\"sk-toggleable__control sk-hidden--visually\" id=\"sk-estimator-id-33\" type=\"checkbox\" ><label for=\"sk-estimator-id-33\" class=\"sk-toggleable__label sk-toggleable__label-arrow\">cat</label><div class=\"sk-toggleable__content\"><pre>Index([], dtype=&#x27;object&#x27;)</pre></div></div></div><div class=\"sk-serial\"><div class=\"sk-item\"><div class=\"sk-serial\"><div class=\"sk-item\"><div class=\"sk-estimator sk-toggleable\"><input class=\"sk-toggleable__control sk-hidden--visually\" id=\"sk-estimator-id-34\" type=\"checkbox\" ><label for=\"sk-estimator-id-34\" class=\"sk-toggleable__label sk-toggleable__label-arrow\">SimpleImputer</label><div class=\"sk-toggleable__content\"><pre>SimpleImputer(fill_value=&#x27;missing&#x27;, strategy=&#x27;constant&#x27;)</pre></div></div></div><div class=\"sk-item\"><div class=\"sk-estimator sk-toggleable\"><input class=\"sk-toggleable__control sk-hidden--visually\" id=\"sk-estimator-id-35\" type=\"checkbox\" ><label for=\"sk-estimator-id-35\" class=\"sk-toggleable__label sk-toggleable__label-arrow\">OneHotEncoder</label><div class=\"sk-toggleable__content\"><pre>OneHotEncoder(handle_unknown=&#x27;ignore&#x27;)</pre></div></div></div></div></div></div></div></div></div></div><div class=\"sk-item\"><div class=\"sk-estimator sk-toggleable\"><input class=\"sk-toggleable__control sk-hidden--visually\" id=\"sk-estimator-id-36\" type=\"checkbox\" ><label for=\"sk-estimator-id-36\" class=\"sk-toggleable__label sk-toggleable__label-arrow\">LinearRegression</label><div class=\"sk-toggleable__content\"><pre>LinearRegression()</pre></div></div></div></div></div></div></div>"
      ],
      "text/plain": [
       "Pipeline(steps=[('preprocesador',\n",
       "                 ColumnTransformer(transformers=[('num',\n",
       "                                                  Pipeline(steps=[('imputer',\n",
       "                                                                   SimpleImputer(strategy='median')),\n",
       "                                                                  ('scaler',\n",
       "                                                                   StandardScaler())]),\n",
       "                                                  Index(['step', 'type_1', 'type_2', 'type_3', 'type_4', 'type_5', 'amount',\n",
       "       'device_1', 'device_2', 'device_3', 'device_4', 'connection_time',\n",
       "       'oldbalanceOrg', 'age', 'newbalanceOrig', 'zone_1', 'zone_2', 'zone_3',\n",
       "       'zone_4', 'user_number', 'user_connections', 'security_alert_1',\n",
       "       'security_alert_2', 'oldbalanceDest', 'newbalanceDest'],\n",
       "      dtype='object')),\n",
       "                                                 ('cat',\n",
       "                                                  Pipeline(steps=[('imputer',\n",
       "                                                                   SimpleImputer(fill_value='missing',\n",
       "                                                                                 strategy='constant')),\n",
       "                                                                  ('onehot',\n",
       "                                                                   OneHotEncoder(handle_unknown='ignore'))]),\n",
       "                                                  Index([], dtype='object'))])),\n",
       "                ('clasificador', LinearRegression())])"
      ]
     },
     "execution_count": 30,
     "metadata": {},
     "output_type": "execute_result"
    }
   ],
   "source": [
    "#Train the model\n",
    "model_glm.fit(X_train, y_train)"
   ]
  },
  {
   "cell_type": "code",
   "execution_count": 31,
   "id": "5d3e0ced",
   "metadata": {},
   "outputs": [],
   "source": [
    "#Save the model\n",
    "with open('../models/GLM.pickle', 'wb') as f:\n",
    "    pickle.dump(model_glm, f)"
   ]
  },
  {
   "cell_type": "code",
   "execution_count": 32,
   "id": "197f6bdb",
   "metadata": {},
   "outputs": [],
   "source": [
    "#Load the model\n",
    "with open('../models/GLM.pickle', 'rb') as f:\n",
    "    model_glm = pickle.load(f)"
   ]
  },
  {
   "cell_type": "markdown",
   "id": "e301740a",
   "metadata": {},
   "source": [
    "### Results"
   ]
  },
  {
   "cell_type": "code",
   "execution_count": 33,
   "id": "88f9d5e2",
   "metadata": {},
   "outputs": [
    {
     "data": {
      "text/plain": [
       "0.0010485205698375088"
      ]
     },
     "execution_count": 33,
     "metadata": {},
     "output_type": "execute_result"
    }
   ],
   "source": [
    "y_pred_glm = model_glm.predict(X_validation)\n",
    "\n",
    "mean_squared_error(y_validation, y_pred_glm)"
   ]
  },
  {
   "cell_type": "markdown",
   "id": "b91b8623",
   "metadata": {},
   "source": [
    "The characteristics of the linear regression do not allowed to calculate the same metrics as the other models, therefore only the MSE will be calculated. It will not be possible to compare with the rest of the models."
   ]
  },
  {
   "cell_type": "markdown",
   "id": "a3fba4b1",
   "metadata": {},
   "source": [
    "## Support Vector Machine (SVM)\n",
    "The SVM is a type of deep learning algorithm which creates data points that are influence the postion, orentation and  are closer to the hyperplane."
   ]
  },
  {
   "cell_type": "code",
   "execution_count": 34,
   "id": "c068a9fd",
   "metadata": {
    "scrolled": true
   },
   "outputs": [],
   "source": [
    "model_svm = Pipeline(steps=[\n",
    "    ('preprocesador', preprocessor), \n",
    "    \n",
    "    ('clasificador', SVC(random_state=1))])"
   ]
  },
  {
   "cell_type": "code",
   "execution_count": 35,
   "id": "548d691d",
   "metadata": {},
   "outputs": [
    {
     "data": {
      "text/html": [
       "<style>#sk-container-id-5 {color: black;background-color: white;}#sk-container-id-5 pre{padding: 0;}#sk-container-id-5 div.sk-toggleable {background-color: white;}#sk-container-id-5 label.sk-toggleable__label {cursor: pointer;display: block;width: 100%;margin-bottom: 0;padding: 0.3em;box-sizing: border-box;text-align: center;}#sk-container-id-5 label.sk-toggleable__label-arrow:before {content: \"▸\";float: left;margin-right: 0.25em;color: #696969;}#sk-container-id-5 label.sk-toggleable__label-arrow:hover:before {color: black;}#sk-container-id-5 div.sk-estimator:hover label.sk-toggleable__label-arrow:before {color: black;}#sk-container-id-5 div.sk-toggleable__content {max-height: 0;max-width: 0;overflow: hidden;text-align: left;background-color: #f0f8ff;}#sk-container-id-5 div.sk-toggleable__content pre {margin: 0.2em;color: black;border-radius: 0.25em;background-color: #f0f8ff;}#sk-container-id-5 input.sk-toggleable__control:checked~div.sk-toggleable__content {max-height: 200px;max-width: 100%;overflow: auto;}#sk-container-id-5 input.sk-toggleable__control:checked~label.sk-toggleable__label-arrow:before {content: \"▾\";}#sk-container-id-5 div.sk-estimator input.sk-toggleable__control:checked~label.sk-toggleable__label {background-color: #d4ebff;}#sk-container-id-5 div.sk-label input.sk-toggleable__control:checked~label.sk-toggleable__label {background-color: #d4ebff;}#sk-container-id-5 input.sk-hidden--visually {border: 0;clip: rect(1px 1px 1px 1px);clip: rect(1px, 1px, 1px, 1px);height: 1px;margin: -1px;overflow: hidden;padding: 0;position: absolute;width: 1px;}#sk-container-id-5 div.sk-estimator {font-family: monospace;background-color: #f0f8ff;border: 1px dotted black;border-radius: 0.25em;box-sizing: border-box;margin-bottom: 0.5em;}#sk-container-id-5 div.sk-estimator:hover {background-color: #d4ebff;}#sk-container-id-5 div.sk-parallel-item::after {content: \"\";width: 100%;border-bottom: 1px solid gray;flex-grow: 1;}#sk-container-id-5 div.sk-label:hover label.sk-toggleable__label {background-color: #d4ebff;}#sk-container-id-5 div.sk-serial::before {content: \"\";position: absolute;border-left: 1px solid gray;box-sizing: border-box;top: 0;bottom: 0;left: 50%;z-index: 0;}#sk-container-id-5 div.sk-serial {display: flex;flex-direction: column;align-items: center;background-color: white;padding-right: 0.2em;padding-left: 0.2em;position: relative;}#sk-container-id-5 div.sk-item {position: relative;z-index: 1;}#sk-container-id-5 div.sk-parallel {display: flex;align-items: stretch;justify-content: center;background-color: white;position: relative;}#sk-container-id-5 div.sk-item::before, #sk-container-id-5 div.sk-parallel-item::before {content: \"\";position: absolute;border-left: 1px solid gray;box-sizing: border-box;top: 0;bottom: 0;left: 50%;z-index: -1;}#sk-container-id-5 div.sk-parallel-item {display: flex;flex-direction: column;z-index: 1;position: relative;background-color: white;}#sk-container-id-5 div.sk-parallel-item:first-child::after {align-self: flex-end;width: 50%;}#sk-container-id-5 div.sk-parallel-item:last-child::after {align-self: flex-start;width: 50%;}#sk-container-id-5 div.sk-parallel-item:only-child::after {width: 0;}#sk-container-id-5 div.sk-dashed-wrapped {border: 1px dashed gray;margin: 0 0.4em 0.5em 0.4em;box-sizing: border-box;padding-bottom: 0.4em;background-color: white;}#sk-container-id-5 div.sk-label label {font-family: monospace;font-weight: bold;display: inline-block;line-height: 1.2em;}#sk-container-id-5 div.sk-label-container {text-align: center;}#sk-container-id-5 div.sk-container {/* jupyter's `normalize.less` sets `[hidden] { display: none; }` but bootstrap.min.css set `[hidden] { display: none !important; }` so we also need the `!important` here to be able to override the default hidden behavior on the sphinx rendered scikit-learn.org. See: https://github.com/scikit-learn/scikit-learn/issues/21755 */display: inline-block !important;position: relative;}#sk-container-id-5 div.sk-text-repr-fallback {display: none;}</style><div id=\"sk-container-id-5\" class=\"sk-top-container\"><div class=\"sk-text-repr-fallback\"><pre>Pipeline(steps=[(&#x27;preprocesador&#x27;,\n",
       "                 ColumnTransformer(transformers=[(&#x27;num&#x27;,\n",
       "                                                  Pipeline(steps=[(&#x27;imputer&#x27;,\n",
       "                                                                   SimpleImputer(strategy=&#x27;median&#x27;)),\n",
       "                                                                  (&#x27;scaler&#x27;,\n",
       "                                                                   StandardScaler())]),\n",
       "                                                  Index([&#x27;step&#x27;, &#x27;type_1&#x27;, &#x27;type_2&#x27;, &#x27;type_3&#x27;, &#x27;type_4&#x27;, &#x27;type_5&#x27;, &#x27;amount&#x27;,\n",
       "       &#x27;device_1&#x27;, &#x27;device_2&#x27;, &#x27;device_3&#x27;, &#x27;device_4&#x27;, &#x27;connection_time&#x27;,\n",
       "       &#x27;oldbalanceOrg&#x27;, &#x27;age&#x27;, &#x27;newbalanceOrig&#x27;, &#x27;zone_1&#x27;, &#x27;zone_2&#x27;, &#x27;zone_3&#x27;,\n",
       "       &#x27;zone_4&#x27;, &#x27;user_number&#x27;, &#x27;user_connections&#x27;, &#x27;security_alert_1&#x27;,\n",
       "       &#x27;security_alert_2&#x27;, &#x27;oldbalanceDest&#x27;, &#x27;newbalanceDest&#x27;],\n",
       "      dtype=&#x27;object&#x27;)),\n",
       "                                                 (&#x27;cat&#x27;,\n",
       "                                                  Pipeline(steps=[(&#x27;imputer&#x27;,\n",
       "                                                                   SimpleImputer(fill_value=&#x27;missing&#x27;,\n",
       "                                                                                 strategy=&#x27;constant&#x27;)),\n",
       "                                                                  (&#x27;onehot&#x27;,\n",
       "                                                                   OneHotEncoder(handle_unknown=&#x27;ignore&#x27;))]),\n",
       "                                                  Index([], dtype=&#x27;object&#x27;))])),\n",
       "                (&#x27;clasificador&#x27;, SVC(random_state=1))])</pre><b>In a Jupyter environment, please rerun this cell to show the HTML representation or trust the notebook. <br />On GitHub, the HTML representation is unable to render, please try loading this page with nbviewer.org.</b></div><div class=\"sk-container\" hidden><div class=\"sk-item sk-dashed-wrapped\"><div class=\"sk-label-container\"><div class=\"sk-label sk-toggleable\"><input class=\"sk-toggleable__control sk-hidden--visually\" id=\"sk-estimator-id-37\" type=\"checkbox\" ><label for=\"sk-estimator-id-37\" class=\"sk-toggleable__label sk-toggleable__label-arrow\">Pipeline</label><div class=\"sk-toggleable__content\"><pre>Pipeline(steps=[(&#x27;preprocesador&#x27;,\n",
       "                 ColumnTransformer(transformers=[(&#x27;num&#x27;,\n",
       "                                                  Pipeline(steps=[(&#x27;imputer&#x27;,\n",
       "                                                                   SimpleImputer(strategy=&#x27;median&#x27;)),\n",
       "                                                                  (&#x27;scaler&#x27;,\n",
       "                                                                   StandardScaler())]),\n",
       "                                                  Index([&#x27;step&#x27;, &#x27;type_1&#x27;, &#x27;type_2&#x27;, &#x27;type_3&#x27;, &#x27;type_4&#x27;, &#x27;type_5&#x27;, &#x27;amount&#x27;,\n",
       "       &#x27;device_1&#x27;, &#x27;device_2&#x27;, &#x27;device_3&#x27;, &#x27;device_4&#x27;, &#x27;connection_time&#x27;,\n",
       "       &#x27;oldbalanceOrg&#x27;, &#x27;age&#x27;, &#x27;newbalanceOrig&#x27;, &#x27;zone_1&#x27;, &#x27;zone_2&#x27;, &#x27;zone_3&#x27;,\n",
       "       &#x27;zone_4&#x27;, &#x27;user_number&#x27;, &#x27;user_connections&#x27;, &#x27;security_alert_1&#x27;,\n",
       "       &#x27;security_alert_2&#x27;, &#x27;oldbalanceDest&#x27;, &#x27;newbalanceDest&#x27;],\n",
       "      dtype=&#x27;object&#x27;)),\n",
       "                                                 (&#x27;cat&#x27;,\n",
       "                                                  Pipeline(steps=[(&#x27;imputer&#x27;,\n",
       "                                                                   SimpleImputer(fill_value=&#x27;missing&#x27;,\n",
       "                                                                                 strategy=&#x27;constant&#x27;)),\n",
       "                                                                  (&#x27;onehot&#x27;,\n",
       "                                                                   OneHotEncoder(handle_unknown=&#x27;ignore&#x27;))]),\n",
       "                                                  Index([], dtype=&#x27;object&#x27;))])),\n",
       "                (&#x27;clasificador&#x27;, SVC(random_state=1))])</pre></div></div></div><div class=\"sk-serial\"><div class=\"sk-item sk-dashed-wrapped\"><div class=\"sk-label-container\"><div class=\"sk-label sk-toggleable\"><input class=\"sk-toggleable__control sk-hidden--visually\" id=\"sk-estimator-id-38\" type=\"checkbox\" ><label for=\"sk-estimator-id-38\" class=\"sk-toggleable__label sk-toggleable__label-arrow\">preprocesador: ColumnTransformer</label><div class=\"sk-toggleable__content\"><pre>ColumnTransformer(transformers=[(&#x27;num&#x27;,\n",
       "                                 Pipeline(steps=[(&#x27;imputer&#x27;,\n",
       "                                                  SimpleImputer(strategy=&#x27;median&#x27;)),\n",
       "                                                 (&#x27;scaler&#x27;, StandardScaler())]),\n",
       "                                 Index([&#x27;step&#x27;, &#x27;type_1&#x27;, &#x27;type_2&#x27;, &#x27;type_3&#x27;, &#x27;type_4&#x27;, &#x27;type_5&#x27;, &#x27;amount&#x27;,\n",
       "       &#x27;device_1&#x27;, &#x27;device_2&#x27;, &#x27;device_3&#x27;, &#x27;device_4&#x27;, &#x27;connection_time&#x27;,\n",
       "       &#x27;oldbalanceOrg&#x27;, &#x27;age&#x27;, &#x27;newbalanceOrig&#x27;, &#x27;zone_1&#x27;, &#x27;zone_2&#x27;, &#x27;zone_3&#x27;,\n",
       "       &#x27;zone_4&#x27;, &#x27;user_number&#x27;, &#x27;user_connections&#x27;, &#x27;security_alert_1&#x27;,\n",
       "       &#x27;security_alert_2&#x27;, &#x27;oldbalanceDest&#x27;, &#x27;newbalanceDest&#x27;],\n",
       "      dtype=&#x27;object&#x27;)),\n",
       "                                (&#x27;cat&#x27;,\n",
       "                                 Pipeline(steps=[(&#x27;imputer&#x27;,\n",
       "                                                  SimpleImputer(fill_value=&#x27;missing&#x27;,\n",
       "                                                                strategy=&#x27;constant&#x27;)),\n",
       "                                                 (&#x27;onehot&#x27;,\n",
       "                                                  OneHotEncoder(handle_unknown=&#x27;ignore&#x27;))]),\n",
       "                                 Index([], dtype=&#x27;object&#x27;))])</pre></div></div></div><div class=\"sk-parallel\"><div class=\"sk-parallel-item\"><div class=\"sk-item\"><div class=\"sk-label-container\"><div class=\"sk-label sk-toggleable\"><input class=\"sk-toggleable__control sk-hidden--visually\" id=\"sk-estimator-id-39\" type=\"checkbox\" ><label for=\"sk-estimator-id-39\" class=\"sk-toggleable__label sk-toggleable__label-arrow\">num</label><div class=\"sk-toggleable__content\"><pre>Index([&#x27;step&#x27;, &#x27;type_1&#x27;, &#x27;type_2&#x27;, &#x27;type_3&#x27;, &#x27;type_4&#x27;, &#x27;type_5&#x27;, &#x27;amount&#x27;,\n",
       "       &#x27;device_1&#x27;, &#x27;device_2&#x27;, &#x27;device_3&#x27;, &#x27;device_4&#x27;, &#x27;connection_time&#x27;,\n",
       "       &#x27;oldbalanceOrg&#x27;, &#x27;age&#x27;, &#x27;newbalanceOrig&#x27;, &#x27;zone_1&#x27;, &#x27;zone_2&#x27;, &#x27;zone_3&#x27;,\n",
       "       &#x27;zone_4&#x27;, &#x27;user_number&#x27;, &#x27;user_connections&#x27;, &#x27;security_alert_1&#x27;,\n",
       "       &#x27;security_alert_2&#x27;, &#x27;oldbalanceDest&#x27;, &#x27;newbalanceDest&#x27;],\n",
       "      dtype=&#x27;object&#x27;)</pre></div></div></div><div class=\"sk-serial\"><div class=\"sk-item\"><div class=\"sk-serial\"><div class=\"sk-item\"><div class=\"sk-estimator sk-toggleable\"><input class=\"sk-toggleable__control sk-hidden--visually\" id=\"sk-estimator-id-40\" type=\"checkbox\" ><label for=\"sk-estimator-id-40\" class=\"sk-toggleable__label sk-toggleable__label-arrow\">SimpleImputer</label><div class=\"sk-toggleable__content\"><pre>SimpleImputer(strategy=&#x27;median&#x27;)</pre></div></div></div><div class=\"sk-item\"><div class=\"sk-estimator sk-toggleable\"><input class=\"sk-toggleable__control sk-hidden--visually\" id=\"sk-estimator-id-41\" type=\"checkbox\" ><label for=\"sk-estimator-id-41\" class=\"sk-toggleable__label sk-toggleable__label-arrow\">StandardScaler</label><div class=\"sk-toggleable__content\"><pre>StandardScaler()</pre></div></div></div></div></div></div></div></div><div class=\"sk-parallel-item\"><div class=\"sk-item\"><div class=\"sk-label-container\"><div class=\"sk-label sk-toggleable\"><input class=\"sk-toggleable__control sk-hidden--visually\" id=\"sk-estimator-id-42\" type=\"checkbox\" ><label for=\"sk-estimator-id-42\" class=\"sk-toggleable__label sk-toggleable__label-arrow\">cat</label><div class=\"sk-toggleable__content\"><pre>Index([], dtype=&#x27;object&#x27;)</pre></div></div></div><div class=\"sk-serial\"><div class=\"sk-item\"><div class=\"sk-serial\"><div class=\"sk-item\"><div class=\"sk-estimator sk-toggleable\"><input class=\"sk-toggleable__control sk-hidden--visually\" id=\"sk-estimator-id-43\" type=\"checkbox\" ><label for=\"sk-estimator-id-43\" class=\"sk-toggleable__label sk-toggleable__label-arrow\">SimpleImputer</label><div class=\"sk-toggleable__content\"><pre>SimpleImputer(fill_value=&#x27;missing&#x27;, strategy=&#x27;constant&#x27;)</pre></div></div></div><div class=\"sk-item\"><div class=\"sk-estimator sk-toggleable\"><input class=\"sk-toggleable__control sk-hidden--visually\" id=\"sk-estimator-id-44\" type=\"checkbox\" ><label for=\"sk-estimator-id-44\" class=\"sk-toggleable__label sk-toggleable__label-arrow\">OneHotEncoder</label><div class=\"sk-toggleable__content\"><pre>OneHotEncoder(handle_unknown=&#x27;ignore&#x27;)</pre></div></div></div></div></div></div></div></div></div></div><div class=\"sk-item\"><div class=\"sk-estimator sk-toggleable\"><input class=\"sk-toggleable__control sk-hidden--visually\" id=\"sk-estimator-id-45\" type=\"checkbox\" ><label for=\"sk-estimator-id-45\" class=\"sk-toggleable__label sk-toggleable__label-arrow\">SVC</label><div class=\"sk-toggleable__content\"><pre>SVC(random_state=1)</pre></div></div></div></div></div></div></div>"
      ],
      "text/plain": [
       "Pipeline(steps=[('preprocesador',\n",
       "                 ColumnTransformer(transformers=[('num',\n",
       "                                                  Pipeline(steps=[('imputer',\n",
       "                                                                   SimpleImputer(strategy='median')),\n",
       "                                                                  ('scaler',\n",
       "                                                                   StandardScaler())]),\n",
       "                                                  Index(['step', 'type_1', 'type_2', 'type_3', 'type_4', 'type_5', 'amount',\n",
       "       'device_1', 'device_2', 'device_3', 'device_4', 'connection_time',\n",
       "       'oldbalanceOrg', 'age', 'newbalanceOrig', 'zone_1', 'zone_2', 'zone_3',\n",
       "       'zone_4', 'user_number', 'user_connections', 'security_alert_1',\n",
       "       'security_alert_2', 'oldbalanceDest', 'newbalanceDest'],\n",
       "      dtype='object')),\n",
       "                                                 ('cat',\n",
       "                                                  Pipeline(steps=[('imputer',\n",
       "                                                                   SimpleImputer(fill_value='missing',\n",
       "                                                                                 strategy='constant')),\n",
       "                                                                  ('onehot',\n",
       "                                                                   OneHotEncoder(handle_unknown='ignore'))]),\n",
       "                                                  Index([], dtype='object'))])),\n",
       "                ('clasificador', SVC(random_state=1))])"
      ]
     },
     "execution_count": 35,
     "metadata": {},
     "output_type": "execute_result"
    }
   ],
   "source": [
    "#Train the model\n",
    "model_svm.fit(X_train, y_train)"
   ]
  },
  {
   "cell_type": "code",
   "execution_count": 36,
   "id": "c73ab6d2",
   "metadata": {},
   "outputs": [],
   "source": [
    "#Save the model\n",
    "with open('../models/model_svm.pickle', 'wb') as f:\n",
    "    pickle.dump(model_svm, f)"
   ]
  },
  {
   "cell_type": "code",
   "execution_count": 37,
   "id": "e422a8ed",
   "metadata": {},
   "outputs": [],
   "source": [
    "#Load the model\n",
    "with open('../models/model_svm.pickle', 'rb') as f:\n",
    "    model_svm = pickle.load(f)"
   ]
  },
  {
   "cell_type": "code",
   "execution_count": 38,
   "id": "91134f22",
   "metadata": {},
   "outputs": [],
   "source": [
    "y_pred_svm = model_svm.predict(X_validation)\n",
    "# y_pred_proba_svm = model_svm.predict_proba(X_validation)"
   ]
  },
  {
   "cell_type": "code",
   "execution_count": 39,
   "id": "bcb05ae2",
   "metadata": {},
   "outputs": [],
   "source": [
    "#As the prediction for theSVM takes time, it will be saved too\n",
    "with open('../models/pred_svm.pickle', 'wb') as f:\n",
    "    pickle.dump(y_pred_svm, f)"
   ]
  },
  {
   "cell_type": "code",
   "execution_count": 40,
   "id": "5ba91c25",
   "metadata": {},
   "outputs": [],
   "source": [
    "with open('../models/pred_svm.pickle', 'rb') as f:\n",
    "    y_pred_svm = pickle.load(f)"
   ]
  },
  {
   "cell_type": "markdown",
   "id": "4b939943",
   "metadata": {},
   "source": [
    "### Results"
   ]
  },
  {
   "cell_type": "markdown",
   "id": "2ae510d3",
   "metadata": {},
   "source": [
    "As the probability is false for the SVM, the threshold setting prediction will not be calculated"
   ]
  },
  {
   "cell_type": "code",
   "execution_count": 41,
   "id": "164e2197",
   "metadata": {},
   "outputs": [
    {
     "name": "stdout",
     "output_type": "stream",
     "text": [
      "Accuracy of the model: 0.999038377480549\n",
      "\n",
      "Classification report: \n",
      "              precision    recall  f1-score   support\n",
      "\n",
      "           0       1.00      1.00      1.00    125672\n",
      "           1       0.97      0.24      0.38       157\n",
      "\n",
      "    accuracy                           1.00    125829\n",
      "   macro avg       0.99      0.62      0.69    125829\n",
      "weighted avg       1.00      1.00      1.00    125829\n",
      "\n",
      "\n",
      "Confusion matrix: \n",
      "[[125671      1]\n",
      " [   120     37]]\n",
      "\n",
      "F2 Score: \n",
      "0.6387902380190904\n",
      "\n"
     ]
    }
   ],
   "source": [
    "fx.evaluate_model(y_validation, y_pred_svm)#,y_pred_proba_svm)"
   ]
  },
  {
   "cell_type": "markdown",
   "id": "f0b37bac",
   "metadata": {},
   "source": [
    "## Light Gradient-boosting Machine (LightGBM)\n",
    "The LightGBM is based on decision trees algorithm to increases the efficiency of the model and reduces memory usage"
   ]
  },
  {
   "cell_type": "code",
   "execution_count": 43,
   "id": "0d84e257",
   "metadata": {},
   "outputs": [],
   "source": [
    "model_lgbm = Pipeline(steps=[\n",
    "    ('preprocesador', preprocessor),\n",
    "    ('clasificador', lgb.LGBMClassifier(random_state=0))])"
   ]
  },
  {
   "cell_type": "code",
   "execution_count": 44,
   "id": "1c6d1822",
   "metadata": {},
   "outputs": [
    {
     "data": {
      "text/html": [
       "<style>#sk-container-id-6 {color: black;background-color: white;}#sk-container-id-6 pre{padding: 0;}#sk-container-id-6 div.sk-toggleable {background-color: white;}#sk-container-id-6 label.sk-toggleable__label {cursor: pointer;display: block;width: 100%;margin-bottom: 0;padding: 0.3em;box-sizing: border-box;text-align: center;}#sk-container-id-6 label.sk-toggleable__label-arrow:before {content: \"▸\";float: left;margin-right: 0.25em;color: #696969;}#sk-container-id-6 label.sk-toggleable__label-arrow:hover:before {color: black;}#sk-container-id-6 div.sk-estimator:hover label.sk-toggleable__label-arrow:before {color: black;}#sk-container-id-6 div.sk-toggleable__content {max-height: 0;max-width: 0;overflow: hidden;text-align: left;background-color: #f0f8ff;}#sk-container-id-6 div.sk-toggleable__content pre {margin: 0.2em;color: black;border-radius: 0.25em;background-color: #f0f8ff;}#sk-container-id-6 input.sk-toggleable__control:checked~div.sk-toggleable__content {max-height: 200px;max-width: 100%;overflow: auto;}#sk-container-id-6 input.sk-toggleable__control:checked~label.sk-toggleable__label-arrow:before {content: \"▾\";}#sk-container-id-6 div.sk-estimator input.sk-toggleable__control:checked~label.sk-toggleable__label {background-color: #d4ebff;}#sk-container-id-6 div.sk-label input.sk-toggleable__control:checked~label.sk-toggleable__label {background-color: #d4ebff;}#sk-container-id-6 input.sk-hidden--visually {border: 0;clip: rect(1px 1px 1px 1px);clip: rect(1px, 1px, 1px, 1px);height: 1px;margin: -1px;overflow: hidden;padding: 0;position: absolute;width: 1px;}#sk-container-id-6 div.sk-estimator {font-family: monospace;background-color: #f0f8ff;border: 1px dotted black;border-radius: 0.25em;box-sizing: border-box;margin-bottom: 0.5em;}#sk-container-id-6 div.sk-estimator:hover {background-color: #d4ebff;}#sk-container-id-6 div.sk-parallel-item::after {content: \"\";width: 100%;border-bottom: 1px solid gray;flex-grow: 1;}#sk-container-id-6 div.sk-label:hover label.sk-toggleable__label {background-color: #d4ebff;}#sk-container-id-6 div.sk-serial::before {content: \"\";position: absolute;border-left: 1px solid gray;box-sizing: border-box;top: 0;bottom: 0;left: 50%;z-index: 0;}#sk-container-id-6 div.sk-serial {display: flex;flex-direction: column;align-items: center;background-color: white;padding-right: 0.2em;padding-left: 0.2em;position: relative;}#sk-container-id-6 div.sk-item {position: relative;z-index: 1;}#sk-container-id-6 div.sk-parallel {display: flex;align-items: stretch;justify-content: center;background-color: white;position: relative;}#sk-container-id-6 div.sk-item::before, #sk-container-id-6 div.sk-parallel-item::before {content: \"\";position: absolute;border-left: 1px solid gray;box-sizing: border-box;top: 0;bottom: 0;left: 50%;z-index: -1;}#sk-container-id-6 div.sk-parallel-item {display: flex;flex-direction: column;z-index: 1;position: relative;background-color: white;}#sk-container-id-6 div.sk-parallel-item:first-child::after {align-self: flex-end;width: 50%;}#sk-container-id-6 div.sk-parallel-item:last-child::after {align-self: flex-start;width: 50%;}#sk-container-id-6 div.sk-parallel-item:only-child::after {width: 0;}#sk-container-id-6 div.sk-dashed-wrapped {border: 1px dashed gray;margin: 0 0.4em 0.5em 0.4em;box-sizing: border-box;padding-bottom: 0.4em;background-color: white;}#sk-container-id-6 div.sk-label label {font-family: monospace;font-weight: bold;display: inline-block;line-height: 1.2em;}#sk-container-id-6 div.sk-label-container {text-align: center;}#sk-container-id-6 div.sk-container {/* jupyter's `normalize.less` sets `[hidden] { display: none; }` but bootstrap.min.css set `[hidden] { display: none !important; }` so we also need the `!important` here to be able to override the default hidden behavior on the sphinx rendered scikit-learn.org. See: https://github.com/scikit-learn/scikit-learn/issues/21755 */display: inline-block !important;position: relative;}#sk-container-id-6 div.sk-text-repr-fallback {display: none;}</style><div id=\"sk-container-id-6\" class=\"sk-top-container\"><div class=\"sk-text-repr-fallback\"><pre>Pipeline(steps=[(&#x27;preprocesador&#x27;,\n",
       "                 ColumnTransformer(transformers=[(&#x27;num&#x27;,\n",
       "                                                  Pipeline(steps=[(&#x27;imputer&#x27;,\n",
       "                                                                   SimpleImputer(strategy=&#x27;median&#x27;)),\n",
       "                                                                  (&#x27;scaler&#x27;,\n",
       "                                                                   StandardScaler())]),\n",
       "                                                  Index([&#x27;step&#x27;, &#x27;type_1&#x27;, &#x27;type_2&#x27;, &#x27;type_3&#x27;, &#x27;type_4&#x27;, &#x27;type_5&#x27;, &#x27;amount&#x27;,\n",
       "       &#x27;device_1&#x27;, &#x27;device_2&#x27;, &#x27;device_3&#x27;, &#x27;device_4&#x27;, &#x27;connection_time&#x27;,\n",
       "       &#x27;oldbalanceOrg&#x27;, &#x27;age&#x27;, &#x27;newbalanceOrig&#x27;, &#x27;zone_1&#x27;, &#x27;zone_2&#x27;,...\n",
       "       &#x27;zone_4&#x27;, &#x27;user_number&#x27;, &#x27;user_connections&#x27;, &#x27;security_alert_1&#x27;,\n",
       "       &#x27;security_alert_2&#x27;, &#x27;oldbalanceDest&#x27;, &#x27;newbalanceDest&#x27;],\n",
       "      dtype=&#x27;object&#x27;)),\n",
       "                                                 (&#x27;cat&#x27;,\n",
       "                                                  Pipeline(steps=[(&#x27;imputer&#x27;,\n",
       "                                                                   SimpleImputer(fill_value=&#x27;missing&#x27;,\n",
       "                                                                                 strategy=&#x27;constant&#x27;)),\n",
       "                                                                  (&#x27;onehot&#x27;,\n",
       "                                                                   OneHotEncoder(handle_unknown=&#x27;ignore&#x27;))]),\n",
       "                                                  Index([], dtype=&#x27;object&#x27;))])),\n",
       "                (&#x27;clasificador&#x27;, LGBMClassifier(random_state=0))])</pre><b>In a Jupyter environment, please rerun this cell to show the HTML representation or trust the notebook. <br />On GitHub, the HTML representation is unable to render, please try loading this page with nbviewer.org.</b></div><div class=\"sk-container\" hidden><div class=\"sk-item sk-dashed-wrapped\"><div class=\"sk-label-container\"><div class=\"sk-label sk-toggleable\"><input class=\"sk-toggleable__control sk-hidden--visually\" id=\"sk-estimator-id-46\" type=\"checkbox\" ><label for=\"sk-estimator-id-46\" class=\"sk-toggleable__label sk-toggleable__label-arrow\">Pipeline</label><div class=\"sk-toggleable__content\"><pre>Pipeline(steps=[(&#x27;preprocesador&#x27;,\n",
       "                 ColumnTransformer(transformers=[(&#x27;num&#x27;,\n",
       "                                                  Pipeline(steps=[(&#x27;imputer&#x27;,\n",
       "                                                                   SimpleImputer(strategy=&#x27;median&#x27;)),\n",
       "                                                                  (&#x27;scaler&#x27;,\n",
       "                                                                   StandardScaler())]),\n",
       "                                                  Index([&#x27;step&#x27;, &#x27;type_1&#x27;, &#x27;type_2&#x27;, &#x27;type_3&#x27;, &#x27;type_4&#x27;, &#x27;type_5&#x27;, &#x27;amount&#x27;,\n",
       "       &#x27;device_1&#x27;, &#x27;device_2&#x27;, &#x27;device_3&#x27;, &#x27;device_4&#x27;, &#x27;connection_time&#x27;,\n",
       "       &#x27;oldbalanceOrg&#x27;, &#x27;age&#x27;, &#x27;newbalanceOrig&#x27;, &#x27;zone_1&#x27;, &#x27;zone_2&#x27;,...\n",
       "       &#x27;zone_4&#x27;, &#x27;user_number&#x27;, &#x27;user_connections&#x27;, &#x27;security_alert_1&#x27;,\n",
       "       &#x27;security_alert_2&#x27;, &#x27;oldbalanceDest&#x27;, &#x27;newbalanceDest&#x27;],\n",
       "      dtype=&#x27;object&#x27;)),\n",
       "                                                 (&#x27;cat&#x27;,\n",
       "                                                  Pipeline(steps=[(&#x27;imputer&#x27;,\n",
       "                                                                   SimpleImputer(fill_value=&#x27;missing&#x27;,\n",
       "                                                                                 strategy=&#x27;constant&#x27;)),\n",
       "                                                                  (&#x27;onehot&#x27;,\n",
       "                                                                   OneHotEncoder(handle_unknown=&#x27;ignore&#x27;))]),\n",
       "                                                  Index([], dtype=&#x27;object&#x27;))])),\n",
       "                (&#x27;clasificador&#x27;, LGBMClassifier(random_state=0))])</pre></div></div></div><div class=\"sk-serial\"><div class=\"sk-item sk-dashed-wrapped\"><div class=\"sk-label-container\"><div class=\"sk-label sk-toggleable\"><input class=\"sk-toggleable__control sk-hidden--visually\" id=\"sk-estimator-id-47\" type=\"checkbox\" ><label for=\"sk-estimator-id-47\" class=\"sk-toggleable__label sk-toggleable__label-arrow\">preprocesador: ColumnTransformer</label><div class=\"sk-toggleable__content\"><pre>ColumnTransformer(transformers=[(&#x27;num&#x27;,\n",
       "                                 Pipeline(steps=[(&#x27;imputer&#x27;,\n",
       "                                                  SimpleImputer(strategy=&#x27;median&#x27;)),\n",
       "                                                 (&#x27;scaler&#x27;, StandardScaler())]),\n",
       "                                 Index([&#x27;step&#x27;, &#x27;type_1&#x27;, &#x27;type_2&#x27;, &#x27;type_3&#x27;, &#x27;type_4&#x27;, &#x27;type_5&#x27;, &#x27;amount&#x27;,\n",
       "       &#x27;device_1&#x27;, &#x27;device_2&#x27;, &#x27;device_3&#x27;, &#x27;device_4&#x27;, &#x27;connection_time&#x27;,\n",
       "       &#x27;oldbalanceOrg&#x27;, &#x27;age&#x27;, &#x27;newbalanceOrig&#x27;, &#x27;zone_1&#x27;, &#x27;zone_2&#x27;, &#x27;zone_3&#x27;,\n",
       "       &#x27;zone_4&#x27;, &#x27;user_number&#x27;, &#x27;user_connections&#x27;, &#x27;security_alert_1&#x27;,\n",
       "       &#x27;security_alert_2&#x27;, &#x27;oldbalanceDest&#x27;, &#x27;newbalanceDest&#x27;],\n",
       "      dtype=&#x27;object&#x27;)),\n",
       "                                (&#x27;cat&#x27;,\n",
       "                                 Pipeline(steps=[(&#x27;imputer&#x27;,\n",
       "                                                  SimpleImputer(fill_value=&#x27;missing&#x27;,\n",
       "                                                                strategy=&#x27;constant&#x27;)),\n",
       "                                                 (&#x27;onehot&#x27;,\n",
       "                                                  OneHotEncoder(handle_unknown=&#x27;ignore&#x27;))]),\n",
       "                                 Index([], dtype=&#x27;object&#x27;))])</pre></div></div></div><div class=\"sk-parallel\"><div class=\"sk-parallel-item\"><div class=\"sk-item\"><div class=\"sk-label-container\"><div class=\"sk-label sk-toggleable\"><input class=\"sk-toggleable__control sk-hidden--visually\" id=\"sk-estimator-id-48\" type=\"checkbox\" ><label for=\"sk-estimator-id-48\" class=\"sk-toggleable__label sk-toggleable__label-arrow\">num</label><div class=\"sk-toggleable__content\"><pre>Index([&#x27;step&#x27;, &#x27;type_1&#x27;, &#x27;type_2&#x27;, &#x27;type_3&#x27;, &#x27;type_4&#x27;, &#x27;type_5&#x27;, &#x27;amount&#x27;,\n",
       "       &#x27;device_1&#x27;, &#x27;device_2&#x27;, &#x27;device_3&#x27;, &#x27;device_4&#x27;, &#x27;connection_time&#x27;,\n",
       "       &#x27;oldbalanceOrg&#x27;, &#x27;age&#x27;, &#x27;newbalanceOrig&#x27;, &#x27;zone_1&#x27;, &#x27;zone_2&#x27;, &#x27;zone_3&#x27;,\n",
       "       &#x27;zone_4&#x27;, &#x27;user_number&#x27;, &#x27;user_connections&#x27;, &#x27;security_alert_1&#x27;,\n",
       "       &#x27;security_alert_2&#x27;, &#x27;oldbalanceDest&#x27;, &#x27;newbalanceDest&#x27;],\n",
       "      dtype=&#x27;object&#x27;)</pre></div></div></div><div class=\"sk-serial\"><div class=\"sk-item\"><div class=\"sk-serial\"><div class=\"sk-item\"><div class=\"sk-estimator sk-toggleable\"><input class=\"sk-toggleable__control sk-hidden--visually\" id=\"sk-estimator-id-49\" type=\"checkbox\" ><label for=\"sk-estimator-id-49\" class=\"sk-toggleable__label sk-toggleable__label-arrow\">SimpleImputer</label><div class=\"sk-toggleable__content\"><pre>SimpleImputer(strategy=&#x27;median&#x27;)</pre></div></div></div><div class=\"sk-item\"><div class=\"sk-estimator sk-toggleable\"><input class=\"sk-toggleable__control sk-hidden--visually\" id=\"sk-estimator-id-50\" type=\"checkbox\" ><label for=\"sk-estimator-id-50\" class=\"sk-toggleable__label sk-toggleable__label-arrow\">StandardScaler</label><div class=\"sk-toggleable__content\"><pre>StandardScaler()</pre></div></div></div></div></div></div></div></div><div class=\"sk-parallel-item\"><div class=\"sk-item\"><div class=\"sk-label-container\"><div class=\"sk-label sk-toggleable\"><input class=\"sk-toggleable__control sk-hidden--visually\" id=\"sk-estimator-id-51\" type=\"checkbox\" ><label for=\"sk-estimator-id-51\" class=\"sk-toggleable__label sk-toggleable__label-arrow\">cat</label><div class=\"sk-toggleable__content\"><pre>Index([], dtype=&#x27;object&#x27;)</pre></div></div></div><div class=\"sk-serial\"><div class=\"sk-item\"><div class=\"sk-serial\"><div class=\"sk-item\"><div class=\"sk-estimator sk-toggleable\"><input class=\"sk-toggleable__control sk-hidden--visually\" id=\"sk-estimator-id-52\" type=\"checkbox\" ><label for=\"sk-estimator-id-52\" class=\"sk-toggleable__label sk-toggleable__label-arrow\">SimpleImputer</label><div class=\"sk-toggleable__content\"><pre>SimpleImputer(fill_value=&#x27;missing&#x27;, strategy=&#x27;constant&#x27;)</pre></div></div></div><div class=\"sk-item\"><div class=\"sk-estimator sk-toggleable\"><input class=\"sk-toggleable__control sk-hidden--visually\" id=\"sk-estimator-id-53\" type=\"checkbox\" ><label for=\"sk-estimator-id-53\" class=\"sk-toggleable__label sk-toggleable__label-arrow\">OneHotEncoder</label><div class=\"sk-toggleable__content\"><pre>OneHotEncoder(handle_unknown=&#x27;ignore&#x27;)</pre></div></div></div></div></div></div></div></div></div></div><div class=\"sk-item\"><div class=\"sk-estimator sk-toggleable\"><input class=\"sk-toggleable__control sk-hidden--visually\" id=\"sk-estimator-id-54\" type=\"checkbox\" ><label for=\"sk-estimator-id-54\" class=\"sk-toggleable__label sk-toggleable__label-arrow\">LGBMClassifier</label><div class=\"sk-toggleable__content\"><pre>LGBMClassifier(random_state=0)</pre></div></div></div></div></div></div></div>"
      ],
      "text/plain": [
       "Pipeline(steps=[('preprocesador',\n",
       "                 ColumnTransformer(transformers=[('num',\n",
       "                                                  Pipeline(steps=[('imputer',\n",
       "                                                                   SimpleImputer(strategy='median')),\n",
       "                                                                  ('scaler',\n",
       "                                                                   StandardScaler())]),\n",
       "                                                  Index(['step', 'type_1', 'type_2', 'type_3', 'type_4', 'type_5', 'amount',\n",
       "       'device_1', 'device_2', 'device_3', 'device_4', 'connection_time',\n",
       "       'oldbalanceOrg', 'age', 'newbalanceOrig', 'zone_1', 'zone_2',...\n",
       "       'zone_4', 'user_number', 'user_connections', 'security_alert_1',\n",
       "       'security_alert_2', 'oldbalanceDest', 'newbalanceDest'],\n",
       "      dtype='object')),\n",
       "                                                 ('cat',\n",
       "                                                  Pipeline(steps=[('imputer',\n",
       "                                                                   SimpleImputer(fill_value='missing',\n",
       "                                                                                 strategy='constant')),\n",
       "                                                                  ('onehot',\n",
       "                                                                   OneHotEncoder(handle_unknown='ignore'))]),\n",
       "                                                  Index([], dtype='object'))])),\n",
       "                ('clasificador', LGBMClassifier(random_state=0))])"
      ]
     },
     "execution_count": 44,
     "metadata": {},
     "output_type": "execute_result"
    }
   ],
   "source": [
    "#Train the model\n",
    "model_lgbm.fit(X_train, y_train)"
   ]
  },
  {
   "cell_type": "code",
   "execution_count": 45,
   "id": "055b9d8b",
   "metadata": {},
   "outputs": [],
   "source": [
    "#Save the model\n",
    "with open('../models/LightGBM.pickle', 'wb') as f:\n",
    "    pickle.dump(model_lgbm, f)"
   ]
  },
  {
   "cell_type": "code",
   "execution_count": 46,
   "id": "7657c5ab",
   "metadata": {},
   "outputs": [],
   "source": [
    "#Load the model\n",
    "with open('../models/LightGBM.pickle', 'rb') as f:\n",
    "    model_lgbm = pickle.load(f)"
   ]
  },
  {
   "cell_type": "markdown",
   "id": "c0c2565b",
   "metadata": {},
   "source": [
    "### Results"
   ]
  },
  {
   "cell_type": "code",
   "execution_count": 47,
   "id": "92491a9d",
   "metadata": {},
   "outputs": [
    {
     "name": "stdout",
     "output_type": "stream",
     "text": [
      "ROC-AUC score of the model: 0.6512083016227057\n",
      "Accuracy of the model: 0.997679390283639\n",
      "\n",
      "Classification report: \n",
      "              precision    recall  f1-score   support\n",
      "\n",
      "           0       1.00      1.00      1.00    125672\n",
      "           1       0.24      0.38      0.29       157\n",
      "\n",
      "    accuracy                           1.00    125829\n",
      "   macro avg       0.62      0.69      0.65    125829\n",
      "weighted avg       1.00      1.00      1.00    125829\n",
      "\n",
      "\n",
      "Confusion matrix: \n",
      "[[125477    195]\n",
      " [    97     60]]\n",
      "\n",
      "F2 Score: \n",
      "0.6691774674668929\n",
      "\n"
     ]
    }
   ],
   "source": [
    "y_pred_lgbm = model_lgbm.predict(X_validation)\n",
    "y_pred_proba_lgbm = model_lgbm.predict_proba(X_validation)\n",
    "fx.evaluate_model(y_validation, y_pred_lgbm, y_pred_proba_lgbm)"
   ]
  },
  {
   "cell_type": "markdown",
   "id": "9df5c09b",
   "metadata": {},
   "source": [
    "### Threshold setting prediction"
   ]
  },
  {
   "cell_type": "code",
   "execution_count": 48,
   "id": "434c2a22",
   "metadata": {},
   "outputs": [
    {
     "name": "stdout",
     "output_type": "stream",
     "text": [
      "Best Threshold=0.000000, G-Mean=0.651\n",
      "ROC-AUC score of the model: 0.6512083016227057\n",
      "Accuracy of the model: 0.9572197188247542\n",
      "\n",
      "Classification report: \n",
      "              precision    recall  f1-score   support\n",
      "\n",
      "           0       1.00      0.96      0.98    125672\n",
      "           1       0.01      0.44      0.02       157\n",
      "\n",
      "    accuracy                           0.96    125829\n",
      "   macro avg       0.51      0.70      0.50    125829\n",
      "weighted avg       1.00      0.96      0.98    125829\n",
      "\n",
      "\n",
      "Confusion matrix: \n",
      "[[120377   5295]\n",
      " [    88     69]]\n",
      "\n",
      "F2 Score: \n",
      "0.5117235545271103\n",
      "\n"
     ]
    }
   ],
   "source": [
    "# keep probabilities for the positive outcome only\n",
    "yhat_lgbm = y_pred_proba_lgbm[:, 1]\n",
    "# calculate roc curves\n",
    "fpr, tpr, thresholds = roc_curve(y_validation, yhat_lgbm)\n",
    "\n",
    "gmeans = np.sqrt(tpr * (1-fpr))\n",
    "# locate the index of the largest g-mean\n",
    "ix = np.argmax(gmeans)\n",
    "print('Best Threshold=%f, G-Mean=%.3f' % (thresholds[ix], gmeans[ix]))\n",
    "\n",
    "y_pred_new_threshold_lgbm = (y_pred_proba_lgbm[:,1]>thresholds[ix]).astype(int)\n",
    "fx.evaluate_model(y_validation,y_pred_new_threshold_lgbm,y_pred_proba_lgbm)"
   ]
  },
  {
   "cell_type": "markdown",
   "id": "8b7894d9",
   "metadata": {},
   "source": [
    "## XGBoost\n",
    "\"Extreme Gradient Boosting” implements Machine Learning algorithms under the Gradient Boosting framework. It provides a parallel tree boosting to solve problems"
   ]
  },
  {
   "cell_type": "code",
   "execution_count": 49,
   "id": "aa21dc1f",
   "metadata": {},
   "outputs": [],
   "source": [
    "from xgboost import XGBClassifier\n",
    "# from sklearn.model_selection import GrideSearchCV"
   ]
  },
  {
   "cell_type": "code",
   "execution_count": 50,
   "id": "9921d8bf",
   "metadata": {},
   "outputs": [],
   "source": [
    "model_xgb = Pipeline(steps=[\n",
    "    ('preprocesador', preprocessor),\n",
    "    ('clasificador', XGBClassifier(random_state=0))])"
   ]
  },
  {
   "cell_type": "code",
   "execution_count": 51,
   "id": "d693d1fb",
   "metadata": {},
   "outputs": [
    {
     "name": "stdout",
     "output_type": "stream",
     "text": [
      "[11:53:41] WARNING: C:\\Windows\\Temp\\abs_557yfx631l\\croots\\recipe\\xgboost-split_1659548953302\\work\\src\\learner.cc:1115: Starting in XGBoost 1.3.0, the default evaluation metric used with the objective 'binary:logistic' was changed from 'error' to 'logloss'. Explicitly set eval_metric if you'd like to restore the old behavior.\n"
     ]
    },
    {
     "data": {
      "text/html": [
       "<style>#sk-container-id-7 {color: black;background-color: white;}#sk-container-id-7 pre{padding: 0;}#sk-container-id-7 div.sk-toggleable {background-color: white;}#sk-container-id-7 label.sk-toggleable__label {cursor: pointer;display: block;width: 100%;margin-bottom: 0;padding: 0.3em;box-sizing: border-box;text-align: center;}#sk-container-id-7 label.sk-toggleable__label-arrow:before {content: \"▸\";float: left;margin-right: 0.25em;color: #696969;}#sk-container-id-7 label.sk-toggleable__label-arrow:hover:before {color: black;}#sk-container-id-7 div.sk-estimator:hover label.sk-toggleable__label-arrow:before {color: black;}#sk-container-id-7 div.sk-toggleable__content {max-height: 0;max-width: 0;overflow: hidden;text-align: left;background-color: #f0f8ff;}#sk-container-id-7 div.sk-toggleable__content pre {margin: 0.2em;color: black;border-radius: 0.25em;background-color: #f0f8ff;}#sk-container-id-7 input.sk-toggleable__control:checked~div.sk-toggleable__content {max-height: 200px;max-width: 100%;overflow: auto;}#sk-container-id-7 input.sk-toggleable__control:checked~label.sk-toggleable__label-arrow:before {content: \"▾\";}#sk-container-id-7 div.sk-estimator input.sk-toggleable__control:checked~label.sk-toggleable__label {background-color: #d4ebff;}#sk-container-id-7 div.sk-label input.sk-toggleable__control:checked~label.sk-toggleable__label {background-color: #d4ebff;}#sk-container-id-7 input.sk-hidden--visually {border: 0;clip: rect(1px 1px 1px 1px);clip: rect(1px, 1px, 1px, 1px);height: 1px;margin: -1px;overflow: hidden;padding: 0;position: absolute;width: 1px;}#sk-container-id-7 div.sk-estimator {font-family: monospace;background-color: #f0f8ff;border: 1px dotted black;border-radius: 0.25em;box-sizing: border-box;margin-bottom: 0.5em;}#sk-container-id-7 div.sk-estimator:hover {background-color: #d4ebff;}#sk-container-id-7 div.sk-parallel-item::after {content: \"\";width: 100%;border-bottom: 1px solid gray;flex-grow: 1;}#sk-container-id-7 div.sk-label:hover label.sk-toggleable__label {background-color: #d4ebff;}#sk-container-id-7 div.sk-serial::before {content: \"\";position: absolute;border-left: 1px solid gray;box-sizing: border-box;top: 0;bottom: 0;left: 50%;z-index: 0;}#sk-container-id-7 div.sk-serial {display: flex;flex-direction: column;align-items: center;background-color: white;padding-right: 0.2em;padding-left: 0.2em;position: relative;}#sk-container-id-7 div.sk-item {position: relative;z-index: 1;}#sk-container-id-7 div.sk-parallel {display: flex;align-items: stretch;justify-content: center;background-color: white;position: relative;}#sk-container-id-7 div.sk-item::before, #sk-container-id-7 div.sk-parallel-item::before {content: \"\";position: absolute;border-left: 1px solid gray;box-sizing: border-box;top: 0;bottom: 0;left: 50%;z-index: -1;}#sk-container-id-7 div.sk-parallel-item {display: flex;flex-direction: column;z-index: 1;position: relative;background-color: white;}#sk-container-id-7 div.sk-parallel-item:first-child::after {align-self: flex-end;width: 50%;}#sk-container-id-7 div.sk-parallel-item:last-child::after {align-self: flex-start;width: 50%;}#sk-container-id-7 div.sk-parallel-item:only-child::after {width: 0;}#sk-container-id-7 div.sk-dashed-wrapped {border: 1px dashed gray;margin: 0 0.4em 0.5em 0.4em;box-sizing: border-box;padding-bottom: 0.4em;background-color: white;}#sk-container-id-7 div.sk-label label {font-family: monospace;font-weight: bold;display: inline-block;line-height: 1.2em;}#sk-container-id-7 div.sk-label-container {text-align: center;}#sk-container-id-7 div.sk-container {/* jupyter's `normalize.less` sets `[hidden] { display: none; }` but bootstrap.min.css set `[hidden] { display: none !important; }` so we also need the `!important` here to be able to override the default hidden behavior on the sphinx rendered scikit-learn.org. See: https://github.com/scikit-learn/scikit-learn/issues/21755 */display: inline-block !important;position: relative;}#sk-container-id-7 div.sk-text-repr-fallback {display: none;}</style><div id=\"sk-container-id-7\" class=\"sk-top-container\"><div class=\"sk-text-repr-fallback\"><pre>Pipeline(steps=[(&#x27;preprocesador&#x27;,\n",
       "                 ColumnTransformer(transformers=[(&#x27;num&#x27;,\n",
       "                                                  Pipeline(steps=[(&#x27;imputer&#x27;,\n",
       "                                                                   SimpleImputer(strategy=&#x27;median&#x27;)),\n",
       "                                                                  (&#x27;scaler&#x27;,\n",
       "                                                                   StandardScaler())]),\n",
       "                                                  Index([&#x27;step&#x27;, &#x27;type_1&#x27;, &#x27;type_2&#x27;, &#x27;type_3&#x27;, &#x27;type_4&#x27;, &#x27;type_5&#x27;, &#x27;amount&#x27;,\n",
       "       &#x27;device_1&#x27;, &#x27;device_2&#x27;, &#x27;device_3&#x27;, &#x27;device_4&#x27;, &#x27;connection_time&#x27;,\n",
       "       &#x27;oldbalanceOrg&#x27;, &#x27;age&#x27;, &#x27;newbalanceOrig&#x27;, &#x27;zone_1&#x27;, &#x27;zone_2&#x27;,...\n",
       "                               gamma=0, gpu_id=-1, importance_type=None,\n",
       "                               interaction_constraints=&#x27;&#x27;,\n",
       "                               learning_rate=0.300000012, max_delta_step=0,\n",
       "                               max_depth=6, min_child_weight=1, missing=nan,\n",
       "                               monotone_constraints=&#x27;()&#x27;, n_estimators=100,\n",
       "                               n_jobs=8, num_parallel_tree=1, predictor=&#x27;auto&#x27;,\n",
       "                               random_state=0, reg_alpha=0, reg_lambda=1,\n",
       "                               scale_pos_weight=1, subsample=1,\n",
       "                               tree_method=&#x27;exact&#x27;, validate_parameters=1,\n",
       "                               verbosity=None))])</pre><b>In a Jupyter environment, please rerun this cell to show the HTML representation or trust the notebook. <br />On GitHub, the HTML representation is unable to render, please try loading this page with nbviewer.org.</b></div><div class=\"sk-container\" hidden><div class=\"sk-item sk-dashed-wrapped\"><div class=\"sk-label-container\"><div class=\"sk-label sk-toggleable\"><input class=\"sk-toggleable__control sk-hidden--visually\" id=\"sk-estimator-id-55\" type=\"checkbox\" ><label for=\"sk-estimator-id-55\" class=\"sk-toggleable__label sk-toggleable__label-arrow\">Pipeline</label><div class=\"sk-toggleable__content\"><pre>Pipeline(steps=[(&#x27;preprocesador&#x27;,\n",
       "                 ColumnTransformer(transformers=[(&#x27;num&#x27;,\n",
       "                                                  Pipeline(steps=[(&#x27;imputer&#x27;,\n",
       "                                                                   SimpleImputer(strategy=&#x27;median&#x27;)),\n",
       "                                                                  (&#x27;scaler&#x27;,\n",
       "                                                                   StandardScaler())]),\n",
       "                                                  Index([&#x27;step&#x27;, &#x27;type_1&#x27;, &#x27;type_2&#x27;, &#x27;type_3&#x27;, &#x27;type_4&#x27;, &#x27;type_5&#x27;, &#x27;amount&#x27;,\n",
       "       &#x27;device_1&#x27;, &#x27;device_2&#x27;, &#x27;device_3&#x27;, &#x27;device_4&#x27;, &#x27;connection_time&#x27;,\n",
       "       &#x27;oldbalanceOrg&#x27;, &#x27;age&#x27;, &#x27;newbalanceOrig&#x27;, &#x27;zone_1&#x27;, &#x27;zone_2&#x27;,...\n",
       "                               gamma=0, gpu_id=-1, importance_type=None,\n",
       "                               interaction_constraints=&#x27;&#x27;,\n",
       "                               learning_rate=0.300000012, max_delta_step=0,\n",
       "                               max_depth=6, min_child_weight=1, missing=nan,\n",
       "                               monotone_constraints=&#x27;()&#x27;, n_estimators=100,\n",
       "                               n_jobs=8, num_parallel_tree=1, predictor=&#x27;auto&#x27;,\n",
       "                               random_state=0, reg_alpha=0, reg_lambda=1,\n",
       "                               scale_pos_weight=1, subsample=1,\n",
       "                               tree_method=&#x27;exact&#x27;, validate_parameters=1,\n",
       "                               verbosity=None))])</pre></div></div></div><div class=\"sk-serial\"><div class=\"sk-item sk-dashed-wrapped\"><div class=\"sk-label-container\"><div class=\"sk-label sk-toggleable\"><input class=\"sk-toggleable__control sk-hidden--visually\" id=\"sk-estimator-id-56\" type=\"checkbox\" ><label for=\"sk-estimator-id-56\" class=\"sk-toggleable__label sk-toggleable__label-arrow\">preprocesador: ColumnTransformer</label><div class=\"sk-toggleable__content\"><pre>ColumnTransformer(transformers=[(&#x27;num&#x27;,\n",
       "                                 Pipeline(steps=[(&#x27;imputer&#x27;,\n",
       "                                                  SimpleImputer(strategy=&#x27;median&#x27;)),\n",
       "                                                 (&#x27;scaler&#x27;, StandardScaler())]),\n",
       "                                 Index([&#x27;step&#x27;, &#x27;type_1&#x27;, &#x27;type_2&#x27;, &#x27;type_3&#x27;, &#x27;type_4&#x27;, &#x27;type_5&#x27;, &#x27;amount&#x27;,\n",
       "       &#x27;device_1&#x27;, &#x27;device_2&#x27;, &#x27;device_3&#x27;, &#x27;device_4&#x27;, &#x27;connection_time&#x27;,\n",
       "       &#x27;oldbalanceOrg&#x27;, &#x27;age&#x27;, &#x27;newbalanceOrig&#x27;, &#x27;zone_1&#x27;, &#x27;zone_2&#x27;, &#x27;zone_3&#x27;,\n",
       "       &#x27;zone_4&#x27;, &#x27;user_number&#x27;, &#x27;user_connections&#x27;, &#x27;security_alert_1&#x27;,\n",
       "       &#x27;security_alert_2&#x27;, &#x27;oldbalanceDest&#x27;, &#x27;newbalanceDest&#x27;],\n",
       "      dtype=&#x27;object&#x27;)),\n",
       "                                (&#x27;cat&#x27;,\n",
       "                                 Pipeline(steps=[(&#x27;imputer&#x27;,\n",
       "                                                  SimpleImputer(fill_value=&#x27;missing&#x27;,\n",
       "                                                                strategy=&#x27;constant&#x27;)),\n",
       "                                                 (&#x27;onehot&#x27;,\n",
       "                                                  OneHotEncoder(handle_unknown=&#x27;ignore&#x27;))]),\n",
       "                                 Index([], dtype=&#x27;object&#x27;))])</pre></div></div></div><div class=\"sk-parallel\"><div class=\"sk-parallel-item\"><div class=\"sk-item\"><div class=\"sk-label-container\"><div class=\"sk-label sk-toggleable\"><input class=\"sk-toggleable__control sk-hidden--visually\" id=\"sk-estimator-id-57\" type=\"checkbox\" ><label for=\"sk-estimator-id-57\" class=\"sk-toggleable__label sk-toggleable__label-arrow\">num</label><div class=\"sk-toggleable__content\"><pre>Index([&#x27;step&#x27;, &#x27;type_1&#x27;, &#x27;type_2&#x27;, &#x27;type_3&#x27;, &#x27;type_4&#x27;, &#x27;type_5&#x27;, &#x27;amount&#x27;,\n",
       "       &#x27;device_1&#x27;, &#x27;device_2&#x27;, &#x27;device_3&#x27;, &#x27;device_4&#x27;, &#x27;connection_time&#x27;,\n",
       "       &#x27;oldbalanceOrg&#x27;, &#x27;age&#x27;, &#x27;newbalanceOrig&#x27;, &#x27;zone_1&#x27;, &#x27;zone_2&#x27;, &#x27;zone_3&#x27;,\n",
       "       &#x27;zone_4&#x27;, &#x27;user_number&#x27;, &#x27;user_connections&#x27;, &#x27;security_alert_1&#x27;,\n",
       "       &#x27;security_alert_2&#x27;, &#x27;oldbalanceDest&#x27;, &#x27;newbalanceDest&#x27;],\n",
       "      dtype=&#x27;object&#x27;)</pre></div></div></div><div class=\"sk-serial\"><div class=\"sk-item\"><div class=\"sk-serial\"><div class=\"sk-item\"><div class=\"sk-estimator sk-toggleable\"><input class=\"sk-toggleable__control sk-hidden--visually\" id=\"sk-estimator-id-58\" type=\"checkbox\" ><label for=\"sk-estimator-id-58\" class=\"sk-toggleable__label sk-toggleable__label-arrow\">SimpleImputer</label><div class=\"sk-toggleable__content\"><pre>SimpleImputer(strategy=&#x27;median&#x27;)</pre></div></div></div><div class=\"sk-item\"><div class=\"sk-estimator sk-toggleable\"><input class=\"sk-toggleable__control sk-hidden--visually\" id=\"sk-estimator-id-59\" type=\"checkbox\" ><label for=\"sk-estimator-id-59\" class=\"sk-toggleable__label sk-toggleable__label-arrow\">StandardScaler</label><div class=\"sk-toggleable__content\"><pre>StandardScaler()</pre></div></div></div></div></div></div></div></div><div class=\"sk-parallel-item\"><div class=\"sk-item\"><div class=\"sk-label-container\"><div class=\"sk-label sk-toggleable\"><input class=\"sk-toggleable__control sk-hidden--visually\" id=\"sk-estimator-id-60\" type=\"checkbox\" ><label for=\"sk-estimator-id-60\" class=\"sk-toggleable__label sk-toggleable__label-arrow\">cat</label><div class=\"sk-toggleable__content\"><pre>Index([], dtype=&#x27;object&#x27;)</pre></div></div></div><div class=\"sk-serial\"><div class=\"sk-item\"><div class=\"sk-serial\"><div class=\"sk-item\"><div class=\"sk-estimator sk-toggleable\"><input class=\"sk-toggleable__control sk-hidden--visually\" id=\"sk-estimator-id-61\" type=\"checkbox\" ><label for=\"sk-estimator-id-61\" class=\"sk-toggleable__label sk-toggleable__label-arrow\">SimpleImputer</label><div class=\"sk-toggleable__content\"><pre>SimpleImputer(fill_value=&#x27;missing&#x27;, strategy=&#x27;constant&#x27;)</pre></div></div></div><div class=\"sk-item\"><div class=\"sk-estimator sk-toggleable\"><input class=\"sk-toggleable__control sk-hidden--visually\" id=\"sk-estimator-id-62\" type=\"checkbox\" ><label for=\"sk-estimator-id-62\" class=\"sk-toggleable__label sk-toggleable__label-arrow\">OneHotEncoder</label><div class=\"sk-toggleable__content\"><pre>OneHotEncoder(handle_unknown=&#x27;ignore&#x27;)</pre></div></div></div></div></div></div></div></div></div></div><div class=\"sk-item\"><div class=\"sk-estimator sk-toggleable\"><input class=\"sk-toggleable__control sk-hidden--visually\" id=\"sk-estimator-id-63\" type=\"checkbox\" ><label for=\"sk-estimator-id-63\" class=\"sk-toggleable__label sk-toggleable__label-arrow\">XGBClassifier</label><div class=\"sk-toggleable__content\"><pre>XGBClassifier(base_score=0.5, booster=&#x27;gbtree&#x27;, colsample_bylevel=1,\n",
       "              colsample_bynode=1, colsample_bytree=1, enable_categorical=False,\n",
       "              gamma=0, gpu_id=-1, importance_type=None,\n",
       "              interaction_constraints=&#x27;&#x27;, learning_rate=0.300000012,\n",
       "              max_delta_step=0, max_depth=6, min_child_weight=1, missing=nan,\n",
       "              monotone_constraints=&#x27;()&#x27;, n_estimators=100, n_jobs=8,\n",
       "              num_parallel_tree=1, predictor=&#x27;auto&#x27;, random_state=0,\n",
       "              reg_alpha=0, reg_lambda=1, scale_pos_weight=1, subsample=1,\n",
       "              tree_method=&#x27;exact&#x27;, validate_parameters=1, verbosity=None)</pre></div></div></div></div></div></div></div>"
      ],
      "text/plain": [
       "Pipeline(steps=[('preprocesador',\n",
       "                 ColumnTransformer(transformers=[('num',\n",
       "                                                  Pipeline(steps=[('imputer',\n",
       "                                                                   SimpleImputer(strategy='median')),\n",
       "                                                                  ('scaler',\n",
       "                                                                   StandardScaler())]),\n",
       "                                                  Index(['step', 'type_1', 'type_2', 'type_3', 'type_4', 'type_5', 'amount',\n",
       "       'device_1', 'device_2', 'device_3', 'device_4', 'connection_time',\n",
       "       'oldbalanceOrg', 'age', 'newbalanceOrig', 'zone_1', 'zone_2',...\n",
       "                               gamma=0, gpu_id=-1, importance_type=None,\n",
       "                               interaction_constraints='',\n",
       "                               learning_rate=0.300000012, max_delta_step=0,\n",
       "                               max_depth=6, min_child_weight=1, missing=nan,\n",
       "                               monotone_constraints='()', n_estimators=100,\n",
       "                               n_jobs=8, num_parallel_tree=1, predictor='auto',\n",
       "                               random_state=0, reg_alpha=0, reg_lambda=1,\n",
       "                               scale_pos_weight=1, subsample=1,\n",
       "                               tree_method='exact', validate_parameters=1,\n",
       "                               verbosity=None))])"
      ]
     },
     "execution_count": 51,
     "metadata": {},
     "output_type": "execute_result"
    }
   ],
   "source": [
    "#Train the model\n",
    "model_xgb.fit(X_train, y_train)"
   ]
  },
  {
   "cell_type": "code",
   "execution_count": 52,
   "id": "bd95bc4d",
   "metadata": {},
   "outputs": [],
   "source": [
    "#Save the model\n",
    "with open('../models/XGBoost.pickle', 'wb') as f:\n",
    "    pickle.dump(model_xgb, f)"
   ]
  },
  {
   "cell_type": "code",
   "execution_count": 53,
   "id": "e568834e",
   "metadata": {},
   "outputs": [],
   "source": [
    "#Load the model\n",
    "with open('../models/XGBoost.pickle', 'rb') as f:\n",
    "    model_xgb = pickle.load(f)"
   ]
  },
  {
   "cell_type": "markdown",
   "id": "69d577d8",
   "metadata": {},
   "source": [
    "### Resuts"
   ]
  },
  {
   "cell_type": "code",
   "execution_count": 54,
   "id": "7d5dbc83",
   "metadata": {},
   "outputs": [
    {
     "name": "stdout",
     "output_type": "stream",
     "text": [
      "ROC-AUC score of the model: 0.9965812834786176\n",
      "Accuracy of the model: 0.9997695284870737\n",
      "\n",
      "Classification report: \n",
      "              precision    recall  f1-score   support\n",
      "\n",
      "           0       1.00      1.00      1.00    125672\n",
      "           1       0.99      0.82      0.90       157\n",
      "\n",
      "    accuracy                           1.00    125829\n",
      "   macro avg       1.00      0.91      0.95    125829\n",
      "weighted avg       1.00      1.00      1.00    125829\n",
      "\n",
      "\n",
      "Confusion matrix: \n",
      "[[125671      1]\n",
      " [    28    129]]\n",
      "\n",
      "F2 Score: \n",
      "0.9254362794085605\n",
      "\n"
     ]
    }
   ],
   "source": [
    "y_pred_xgb = model_xgb.predict(X_validation)\n",
    "y_pred_proba_xgb = model_xgb.predict_proba(X_validation)\n",
    "fx.evaluate_model(y_validation, y_pred_xgb, y_pred_proba_xgb)"
   ]
  },
  {
   "cell_type": "markdown",
   "id": "68566d00",
   "metadata": {},
   "source": [
    "### Threshold setting prediction"
   ]
  },
  {
   "cell_type": "code",
   "execution_count": 55,
   "id": "68293add",
   "metadata": {},
   "outputs": [
    {
     "name": "stdout",
     "output_type": "stream",
     "text": [
      "Best Threshold=0.000254, G-Mean=0.982\n",
      "ROC-AUC score of the model: 0.9965812834786176\n",
      "Accuracy of the model: 0.9833583673080133\n",
      "\n",
      "Classification report: \n",
      "              precision    recall  f1-score   support\n",
      "\n",
      "           0       1.00      0.98      0.99    125672\n",
      "           1       0.07      0.97      0.13       157\n",
      "\n",
      "    accuracy                           0.98    125829\n",
      "   macro avg       0.53      0.98      0.56    125829\n",
      "weighted avg       1.00      0.98      0.99    125829\n",
      "\n",
      "\n",
      "Confusion matrix: \n",
      "[[123582   2090]\n",
      " [     4    153]]\n",
      "\n",
      "F2 Score: \n",
      "0.6265512517215941\n",
      "\n"
     ]
    }
   ],
   "source": [
    "# keep probabilities for the positive outcome only\n",
    "yhat_xgb = y_pred_proba_xgb[:, 1]\n",
    "# calculate roc curves\n",
    "fpr, tpr, thresholds = roc_curve(y_validation, yhat_xgb)\n",
    "\n",
    "gmeans = np.sqrt(tpr * (1-fpr))\n",
    "# locate the index of the largest g-mean\n",
    "ix = np.argmax(gmeans)\n",
    "print('Best Threshold=%f, G-Mean=%.3f' % (thresholds[ix], gmeans[ix]))\n",
    "\n",
    "y_pred_new_threshold_xgb = (y_pred_proba_xgb[:,1]>thresholds[ix]).astype(int)\n",
    "fx.evaluate_model(y_validation,y_pred_new_threshold_xgb,y_pred_proba_xgb)"
   ]
  },
  {
   "cell_type": "markdown",
   "id": "154c18fd",
   "metadata": {},
   "source": [
    "## AdaBoost\n",
    "AdaBoost(Adapting boosting), is an algorithm that uses an ensemble learning approach to weight various inputs. "
   ]
  },
  {
   "cell_type": "code",
   "execution_count": 56,
   "id": "e92afada",
   "metadata": {},
   "outputs": [],
   "source": [
    "model_ada = Pipeline(steps=[\n",
    "    ('preprocesador', preprocessor),\n",
    "    ('clasificador', AdaBoostClassifier(n_estimators=100, random_state=0))])"
   ]
  },
  {
   "cell_type": "code",
   "execution_count": 57,
   "id": "a618d3c4",
   "metadata": {},
   "outputs": [
    {
     "data": {
      "text/html": [
       "<style>#sk-container-id-8 {color: black;background-color: white;}#sk-container-id-8 pre{padding: 0;}#sk-container-id-8 div.sk-toggleable {background-color: white;}#sk-container-id-8 label.sk-toggleable__label {cursor: pointer;display: block;width: 100%;margin-bottom: 0;padding: 0.3em;box-sizing: border-box;text-align: center;}#sk-container-id-8 label.sk-toggleable__label-arrow:before {content: \"▸\";float: left;margin-right: 0.25em;color: #696969;}#sk-container-id-8 label.sk-toggleable__label-arrow:hover:before {color: black;}#sk-container-id-8 div.sk-estimator:hover label.sk-toggleable__label-arrow:before {color: black;}#sk-container-id-8 div.sk-toggleable__content {max-height: 0;max-width: 0;overflow: hidden;text-align: left;background-color: #f0f8ff;}#sk-container-id-8 div.sk-toggleable__content pre {margin: 0.2em;color: black;border-radius: 0.25em;background-color: #f0f8ff;}#sk-container-id-8 input.sk-toggleable__control:checked~div.sk-toggleable__content {max-height: 200px;max-width: 100%;overflow: auto;}#sk-container-id-8 input.sk-toggleable__control:checked~label.sk-toggleable__label-arrow:before {content: \"▾\";}#sk-container-id-8 div.sk-estimator input.sk-toggleable__control:checked~label.sk-toggleable__label {background-color: #d4ebff;}#sk-container-id-8 div.sk-label input.sk-toggleable__control:checked~label.sk-toggleable__label {background-color: #d4ebff;}#sk-container-id-8 input.sk-hidden--visually {border: 0;clip: rect(1px 1px 1px 1px);clip: rect(1px, 1px, 1px, 1px);height: 1px;margin: -1px;overflow: hidden;padding: 0;position: absolute;width: 1px;}#sk-container-id-8 div.sk-estimator {font-family: monospace;background-color: #f0f8ff;border: 1px dotted black;border-radius: 0.25em;box-sizing: border-box;margin-bottom: 0.5em;}#sk-container-id-8 div.sk-estimator:hover {background-color: #d4ebff;}#sk-container-id-8 div.sk-parallel-item::after {content: \"\";width: 100%;border-bottom: 1px solid gray;flex-grow: 1;}#sk-container-id-8 div.sk-label:hover label.sk-toggleable__label {background-color: #d4ebff;}#sk-container-id-8 div.sk-serial::before {content: \"\";position: absolute;border-left: 1px solid gray;box-sizing: border-box;top: 0;bottom: 0;left: 50%;z-index: 0;}#sk-container-id-8 div.sk-serial {display: flex;flex-direction: column;align-items: center;background-color: white;padding-right: 0.2em;padding-left: 0.2em;position: relative;}#sk-container-id-8 div.sk-item {position: relative;z-index: 1;}#sk-container-id-8 div.sk-parallel {display: flex;align-items: stretch;justify-content: center;background-color: white;position: relative;}#sk-container-id-8 div.sk-item::before, #sk-container-id-8 div.sk-parallel-item::before {content: \"\";position: absolute;border-left: 1px solid gray;box-sizing: border-box;top: 0;bottom: 0;left: 50%;z-index: -1;}#sk-container-id-8 div.sk-parallel-item {display: flex;flex-direction: column;z-index: 1;position: relative;background-color: white;}#sk-container-id-8 div.sk-parallel-item:first-child::after {align-self: flex-end;width: 50%;}#sk-container-id-8 div.sk-parallel-item:last-child::after {align-self: flex-start;width: 50%;}#sk-container-id-8 div.sk-parallel-item:only-child::after {width: 0;}#sk-container-id-8 div.sk-dashed-wrapped {border: 1px dashed gray;margin: 0 0.4em 0.5em 0.4em;box-sizing: border-box;padding-bottom: 0.4em;background-color: white;}#sk-container-id-8 div.sk-label label {font-family: monospace;font-weight: bold;display: inline-block;line-height: 1.2em;}#sk-container-id-8 div.sk-label-container {text-align: center;}#sk-container-id-8 div.sk-container {/* jupyter's `normalize.less` sets `[hidden] { display: none; }` but bootstrap.min.css set `[hidden] { display: none !important; }` so we also need the `!important` here to be able to override the default hidden behavior on the sphinx rendered scikit-learn.org. See: https://github.com/scikit-learn/scikit-learn/issues/21755 */display: inline-block !important;position: relative;}#sk-container-id-8 div.sk-text-repr-fallback {display: none;}</style><div id=\"sk-container-id-8\" class=\"sk-top-container\"><div class=\"sk-text-repr-fallback\"><pre>Pipeline(steps=[(&#x27;preprocesador&#x27;,\n",
       "                 ColumnTransformer(transformers=[(&#x27;num&#x27;,\n",
       "                                                  Pipeline(steps=[(&#x27;imputer&#x27;,\n",
       "                                                                   SimpleImputer(strategy=&#x27;median&#x27;)),\n",
       "                                                                  (&#x27;scaler&#x27;,\n",
       "                                                                   StandardScaler())]),\n",
       "                                                  Index([&#x27;step&#x27;, &#x27;type_1&#x27;, &#x27;type_2&#x27;, &#x27;type_3&#x27;, &#x27;type_4&#x27;, &#x27;type_5&#x27;, &#x27;amount&#x27;,\n",
       "       &#x27;device_1&#x27;, &#x27;device_2&#x27;, &#x27;device_3&#x27;, &#x27;device_4&#x27;, &#x27;connection_time&#x27;,\n",
       "       &#x27;oldbalanceOrg&#x27;, &#x27;age&#x27;, &#x27;newbalanceOrig&#x27;, &#x27;zone_1&#x27;, &#x27;zone_2&#x27;,...\n",
       "       &#x27;zone_4&#x27;, &#x27;user_number&#x27;, &#x27;user_connections&#x27;, &#x27;security_alert_1&#x27;,\n",
       "       &#x27;security_alert_2&#x27;, &#x27;oldbalanceDest&#x27;, &#x27;newbalanceDest&#x27;],\n",
       "      dtype=&#x27;object&#x27;)),\n",
       "                                                 (&#x27;cat&#x27;,\n",
       "                                                  Pipeline(steps=[(&#x27;imputer&#x27;,\n",
       "                                                                   SimpleImputer(fill_value=&#x27;missing&#x27;,\n",
       "                                                                                 strategy=&#x27;constant&#x27;)),\n",
       "                                                                  (&#x27;onehot&#x27;,\n",
       "                                                                   OneHotEncoder(handle_unknown=&#x27;ignore&#x27;))]),\n",
       "                                                  Index([], dtype=&#x27;object&#x27;))])),\n",
       "                (&#x27;clasificador&#x27;,\n",
       "                 AdaBoostClassifier(n_estimators=100, random_state=0))])</pre><b>In a Jupyter environment, please rerun this cell to show the HTML representation or trust the notebook. <br />On GitHub, the HTML representation is unable to render, please try loading this page with nbviewer.org.</b></div><div class=\"sk-container\" hidden><div class=\"sk-item sk-dashed-wrapped\"><div class=\"sk-label-container\"><div class=\"sk-label sk-toggleable\"><input class=\"sk-toggleable__control sk-hidden--visually\" id=\"sk-estimator-id-64\" type=\"checkbox\" ><label for=\"sk-estimator-id-64\" class=\"sk-toggleable__label sk-toggleable__label-arrow\">Pipeline</label><div class=\"sk-toggleable__content\"><pre>Pipeline(steps=[(&#x27;preprocesador&#x27;,\n",
       "                 ColumnTransformer(transformers=[(&#x27;num&#x27;,\n",
       "                                                  Pipeline(steps=[(&#x27;imputer&#x27;,\n",
       "                                                                   SimpleImputer(strategy=&#x27;median&#x27;)),\n",
       "                                                                  (&#x27;scaler&#x27;,\n",
       "                                                                   StandardScaler())]),\n",
       "                                                  Index([&#x27;step&#x27;, &#x27;type_1&#x27;, &#x27;type_2&#x27;, &#x27;type_3&#x27;, &#x27;type_4&#x27;, &#x27;type_5&#x27;, &#x27;amount&#x27;,\n",
       "       &#x27;device_1&#x27;, &#x27;device_2&#x27;, &#x27;device_3&#x27;, &#x27;device_4&#x27;, &#x27;connection_time&#x27;,\n",
       "       &#x27;oldbalanceOrg&#x27;, &#x27;age&#x27;, &#x27;newbalanceOrig&#x27;, &#x27;zone_1&#x27;, &#x27;zone_2&#x27;,...\n",
       "       &#x27;zone_4&#x27;, &#x27;user_number&#x27;, &#x27;user_connections&#x27;, &#x27;security_alert_1&#x27;,\n",
       "       &#x27;security_alert_2&#x27;, &#x27;oldbalanceDest&#x27;, &#x27;newbalanceDest&#x27;],\n",
       "      dtype=&#x27;object&#x27;)),\n",
       "                                                 (&#x27;cat&#x27;,\n",
       "                                                  Pipeline(steps=[(&#x27;imputer&#x27;,\n",
       "                                                                   SimpleImputer(fill_value=&#x27;missing&#x27;,\n",
       "                                                                                 strategy=&#x27;constant&#x27;)),\n",
       "                                                                  (&#x27;onehot&#x27;,\n",
       "                                                                   OneHotEncoder(handle_unknown=&#x27;ignore&#x27;))]),\n",
       "                                                  Index([], dtype=&#x27;object&#x27;))])),\n",
       "                (&#x27;clasificador&#x27;,\n",
       "                 AdaBoostClassifier(n_estimators=100, random_state=0))])</pre></div></div></div><div class=\"sk-serial\"><div class=\"sk-item sk-dashed-wrapped\"><div class=\"sk-label-container\"><div class=\"sk-label sk-toggleable\"><input class=\"sk-toggleable__control sk-hidden--visually\" id=\"sk-estimator-id-65\" type=\"checkbox\" ><label for=\"sk-estimator-id-65\" class=\"sk-toggleable__label sk-toggleable__label-arrow\">preprocesador: ColumnTransformer</label><div class=\"sk-toggleable__content\"><pre>ColumnTransformer(transformers=[(&#x27;num&#x27;,\n",
       "                                 Pipeline(steps=[(&#x27;imputer&#x27;,\n",
       "                                                  SimpleImputer(strategy=&#x27;median&#x27;)),\n",
       "                                                 (&#x27;scaler&#x27;, StandardScaler())]),\n",
       "                                 Index([&#x27;step&#x27;, &#x27;type_1&#x27;, &#x27;type_2&#x27;, &#x27;type_3&#x27;, &#x27;type_4&#x27;, &#x27;type_5&#x27;, &#x27;amount&#x27;,\n",
       "       &#x27;device_1&#x27;, &#x27;device_2&#x27;, &#x27;device_3&#x27;, &#x27;device_4&#x27;, &#x27;connection_time&#x27;,\n",
       "       &#x27;oldbalanceOrg&#x27;, &#x27;age&#x27;, &#x27;newbalanceOrig&#x27;, &#x27;zone_1&#x27;, &#x27;zone_2&#x27;, &#x27;zone_3&#x27;,\n",
       "       &#x27;zone_4&#x27;, &#x27;user_number&#x27;, &#x27;user_connections&#x27;, &#x27;security_alert_1&#x27;,\n",
       "       &#x27;security_alert_2&#x27;, &#x27;oldbalanceDest&#x27;, &#x27;newbalanceDest&#x27;],\n",
       "      dtype=&#x27;object&#x27;)),\n",
       "                                (&#x27;cat&#x27;,\n",
       "                                 Pipeline(steps=[(&#x27;imputer&#x27;,\n",
       "                                                  SimpleImputer(fill_value=&#x27;missing&#x27;,\n",
       "                                                                strategy=&#x27;constant&#x27;)),\n",
       "                                                 (&#x27;onehot&#x27;,\n",
       "                                                  OneHotEncoder(handle_unknown=&#x27;ignore&#x27;))]),\n",
       "                                 Index([], dtype=&#x27;object&#x27;))])</pre></div></div></div><div class=\"sk-parallel\"><div class=\"sk-parallel-item\"><div class=\"sk-item\"><div class=\"sk-label-container\"><div class=\"sk-label sk-toggleable\"><input class=\"sk-toggleable__control sk-hidden--visually\" id=\"sk-estimator-id-66\" type=\"checkbox\" ><label for=\"sk-estimator-id-66\" class=\"sk-toggleable__label sk-toggleable__label-arrow\">num</label><div class=\"sk-toggleable__content\"><pre>Index([&#x27;step&#x27;, &#x27;type_1&#x27;, &#x27;type_2&#x27;, &#x27;type_3&#x27;, &#x27;type_4&#x27;, &#x27;type_5&#x27;, &#x27;amount&#x27;,\n",
       "       &#x27;device_1&#x27;, &#x27;device_2&#x27;, &#x27;device_3&#x27;, &#x27;device_4&#x27;, &#x27;connection_time&#x27;,\n",
       "       &#x27;oldbalanceOrg&#x27;, &#x27;age&#x27;, &#x27;newbalanceOrig&#x27;, &#x27;zone_1&#x27;, &#x27;zone_2&#x27;, &#x27;zone_3&#x27;,\n",
       "       &#x27;zone_4&#x27;, &#x27;user_number&#x27;, &#x27;user_connections&#x27;, &#x27;security_alert_1&#x27;,\n",
       "       &#x27;security_alert_2&#x27;, &#x27;oldbalanceDest&#x27;, &#x27;newbalanceDest&#x27;],\n",
       "      dtype=&#x27;object&#x27;)</pre></div></div></div><div class=\"sk-serial\"><div class=\"sk-item\"><div class=\"sk-serial\"><div class=\"sk-item\"><div class=\"sk-estimator sk-toggleable\"><input class=\"sk-toggleable__control sk-hidden--visually\" id=\"sk-estimator-id-67\" type=\"checkbox\" ><label for=\"sk-estimator-id-67\" class=\"sk-toggleable__label sk-toggleable__label-arrow\">SimpleImputer</label><div class=\"sk-toggleable__content\"><pre>SimpleImputer(strategy=&#x27;median&#x27;)</pre></div></div></div><div class=\"sk-item\"><div class=\"sk-estimator sk-toggleable\"><input class=\"sk-toggleable__control sk-hidden--visually\" id=\"sk-estimator-id-68\" type=\"checkbox\" ><label for=\"sk-estimator-id-68\" class=\"sk-toggleable__label sk-toggleable__label-arrow\">StandardScaler</label><div class=\"sk-toggleable__content\"><pre>StandardScaler()</pre></div></div></div></div></div></div></div></div><div class=\"sk-parallel-item\"><div class=\"sk-item\"><div class=\"sk-label-container\"><div class=\"sk-label sk-toggleable\"><input class=\"sk-toggleable__control sk-hidden--visually\" id=\"sk-estimator-id-69\" type=\"checkbox\" ><label for=\"sk-estimator-id-69\" class=\"sk-toggleable__label sk-toggleable__label-arrow\">cat</label><div class=\"sk-toggleable__content\"><pre>Index([], dtype=&#x27;object&#x27;)</pre></div></div></div><div class=\"sk-serial\"><div class=\"sk-item\"><div class=\"sk-serial\"><div class=\"sk-item\"><div class=\"sk-estimator sk-toggleable\"><input class=\"sk-toggleable__control sk-hidden--visually\" id=\"sk-estimator-id-70\" type=\"checkbox\" ><label for=\"sk-estimator-id-70\" class=\"sk-toggleable__label sk-toggleable__label-arrow\">SimpleImputer</label><div class=\"sk-toggleable__content\"><pre>SimpleImputer(fill_value=&#x27;missing&#x27;, strategy=&#x27;constant&#x27;)</pre></div></div></div><div class=\"sk-item\"><div class=\"sk-estimator sk-toggleable\"><input class=\"sk-toggleable__control sk-hidden--visually\" id=\"sk-estimator-id-71\" type=\"checkbox\" ><label for=\"sk-estimator-id-71\" class=\"sk-toggleable__label sk-toggleable__label-arrow\">OneHotEncoder</label><div class=\"sk-toggleable__content\"><pre>OneHotEncoder(handle_unknown=&#x27;ignore&#x27;)</pre></div></div></div></div></div></div></div></div></div></div><div class=\"sk-item\"><div class=\"sk-estimator sk-toggleable\"><input class=\"sk-toggleable__control sk-hidden--visually\" id=\"sk-estimator-id-72\" type=\"checkbox\" ><label for=\"sk-estimator-id-72\" class=\"sk-toggleable__label sk-toggleable__label-arrow\">AdaBoostClassifier</label><div class=\"sk-toggleable__content\"><pre>AdaBoostClassifier(n_estimators=100, random_state=0)</pre></div></div></div></div></div></div></div>"
      ],
      "text/plain": [
       "Pipeline(steps=[('preprocesador',\n",
       "                 ColumnTransformer(transformers=[('num',\n",
       "                                                  Pipeline(steps=[('imputer',\n",
       "                                                                   SimpleImputer(strategy='median')),\n",
       "                                                                  ('scaler',\n",
       "                                                                   StandardScaler())]),\n",
       "                                                  Index(['step', 'type_1', 'type_2', 'type_3', 'type_4', 'type_5', 'amount',\n",
       "       'device_1', 'device_2', 'device_3', 'device_4', 'connection_time',\n",
       "       'oldbalanceOrg', 'age', 'newbalanceOrig', 'zone_1', 'zone_2',...\n",
       "       'zone_4', 'user_number', 'user_connections', 'security_alert_1',\n",
       "       'security_alert_2', 'oldbalanceDest', 'newbalanceDest'],\n",
       "      dtype='object')),\n",
       "                                                 ('cat',\n",
       "                                                  Pipeline(steps=[('imputer',\n",
       "                                                                   SimpleImputer(fill_value='missing',\n",
       "                                                                                 strategy='constant')),\n",
       "                                                                  ('onehot',\n",
       "                                                                   OneHotEncoder(handle_unknown='ignore'))]),\n",
       "                                                  Index([], dtype='object'))])),\n",
       "                ('clasificador',\n",
       "                 AdaBoostClassifier(n_estimators=100, random_state=0))])"
      ]
     },
     "execution_count": 57,
     "metadata": {},
     "output_type": "execute_result"
    }
   ],
   "source": [
    "model_ada.fit(X_train, y_train)"
   ]
  },
  {
   "cell_type": "code",
   "execution_count": 58,
   "id": "431f1986",
   "metadata": {},
   "outputs": [],
   "source": [
    "#Save the model\n",
    "with open('../models/AdaBoost.pickle', 'wb') as f:\n",
    "    pickle.dump(model_ada, f)"
   ]
  },
  {
   "cell_type": "code",
   "execution_count": 59,
   "id": "81cd69a8",
   "metadata": {},
   "outputs": [],
   "source": [
    "#Load the model\n",
    "with open('../models/AdaBoost.pickle', 'rb') as f:\n",
    "    model_ada = pickle.load(f)"
   ]
  },
  {
   "cell_type": "markdown",
   "id": "8cb5d46f",
   "metadata": {},
   "source": [
    "### Results"
   ]
  },
  {
   "cell_type": "code",
   "execution_count": 63,
   "id": "158bf248",
   "metadata": {},
   "outputs": [
    {
     "name": "stdout",
     "output_type": "stream",
     "text": [
      "ROC-AUC score of the model: 0.988396925897078\n",
      "Accuracy of the model: 0.999475478625754\n",
      "\n",
      "Classification report: \n",
      "              precision    recall  f1-score   support\n",
      "\n",
      "           0       1.00      1.00      1.00    125672\n",
      "           1       0.93      0.63      0.75       157\n",
      "\n",
      "    accuracy                           1.00    125829\n",
      "   macro avg       0.96      0.82      0.87    125829\n",
      "weighted avg       1.00      1.00      1.00    125829\n",
      "\n",
      "\n",
      "Confusion matrix: \n",
      "[[125664      8]\n",
      " [    58     99]]\n",
      "\n",
      "F2 Score: \n",
      "0.8366630845778902\n",
      "\n"
     ]
    }
   ],
   "source": [
    "y_pred_ada = model_ada.predict(X_validation)\n",
    "y_pred_proba_ada = model_ada.predict_proba(X_validation)\n",
    "fx.evaluate_model(y_validation,y_pred_ada,y_pred_proba_ada)"
   ]
  },
  {
   "cell_type": "markdown",
   "id": "81c8c277",
   "metadata": {},
   "source": [
    "### Threshold setting prediction"
   ]
  },
  {
   "cell_type": "code",
   "execution_count": 64,
   "id": "45a30395",
   "metadata": {},
   "outputs": [
    {
     "name": "stdout",
     "output_type": "stream",
     "text": [
      "Best Threshold=0.481327, G-Mean=0.955\n",
      "ROC-AUC score of the model: 0.988396925897078\n",
      "Accuracy of the model: 0.9600569026218121\n",
      "\n",
      "Classification report: \n",
      "              precision    recall  f1-score   support\n",
      "\n",
      "           0       1.00      0.96      0.98    125672\n",
      "           1       0.03      0.94      0.06       157\n",
      "\n",
      "    accuracy                           0.96    125829\n",
      "   macro avg       0.51      0.95      0.52    125829\n",
      "weighted avg       1.00      0.96      0.98    125829\n",
      "\n",
      "\n",
      "Confusion matrix: \n",
      "[[120655   5017]\n",
      " [     9    148]]\n",
      "\n",
      "F2 Score: \n",
      "0.5477661249642923\n",
      "\n"
     ]
    }
   ],
   "source": [
    "# keep probabilities for the positive outcome only\n",
    "yhat_ada = y_pred_proba_ada[:, 1]\n",
    "# calculate roc curves\n",
    "fpr, tpr, thresholds = roc_curve(y_validation, yhat_ada)\n",
    "\n",
    "gmeans = np.sqrt(tpr * (1-fpr))\n",
    "# locate the index of the largest g-mean\n",
    "ix = np.argmax(gmeans)\n",
    "print('Best Threshold=%f, G-Mean=%.3f' % (thresholds[ix], gmeans[ix]))\n",
    "\n",
    "y_pred_new_threshold_ada = (y_pred_proba_ada[:,1]>thresholds[ix]).astype(int)\n",
    "fx.evaluate_model(y_validation,y_pred_new_threshold_ada,y_pred_proba_ada)"
   ]
  }
 ],
 "metadata": {
  "kernelspec": {
   "display_name": "practice0",
   "language": "python",
   "name": "practice0"
  },
  "language_info": {
   "codemirror_mode": {
    "name": "ipython",
    "version": 3
   },
   "file_extension": ".py",
   "mimetype": "text/x-python",
   "name": "python",
   "nbconvert_exporter": "python",
   "pygments_lexer": "ipython3",
   "version": "3.9.13"
  }
 },
 "nbformat": 4,
 "nbformat_minor": 5
}
